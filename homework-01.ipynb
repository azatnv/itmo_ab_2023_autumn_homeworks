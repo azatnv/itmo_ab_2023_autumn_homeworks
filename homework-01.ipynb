{
 "cells": [
  {
   "cell_type": "markdown",
   "metadata": {
    "collapsed": false,
    "jp-MarkdownHeadingCollapsed": true,
    "jupyter": {
     "outputs_hidden": false
    }
   },
   "source": [
    "## Практическая работа №1. Азат Сибагатулин"
   ]
  },
  {
   "cell_type": "code",
   "execution_count": null,
   "metadata": {},
   "outputs": [],
   "source": [
    " !pip install scipy matplotlib statsmodels pandas seaborn tqdm scikit-learn numba tweedie"
   ]
  },
  {
   "cell_type": "code",
   "execution_count": 2,
   "metadata": {
    "collapsed": false,
    "jupyter": {
     "outputs_hidden": false
    }
   },
   "outputs": [],
   "source": [
    "import numpy as np\n",
    "import pandas as pd\n",
    "import scipy\n",
    "import matplotlib.pyplot as plt\n",
    "import scipy.stats as stats\n",
    "from tweedie.tweedie_dist import tweedie_gen\n",
    "\n",
    "import matplotlib.pyplot as plt\n",
    "import seaborn as sns\n",
    "\n",
    "import os\n",
    "from tqdm import tqdm\n",
    "from sklearn.utils import shuffle\n",
    "import hashlib\n",
    "from typing import Callable\n",
    "from base64 import b64encode\n",
    "import collections\n",
    "import datetime\n",
    "\n",
    "from numba import njit, float32\n",
    "from joblib import Parallel, delayed"
   ]
  },
  {
   "cell_type": "code",
   "execution_count": 3,
   "metadata": {
    "collapsed": false,
    "jupyter": {
     "outputs_hidden": false
    }
   },
   "outputs": [],
   "source": [
    "pd.set_option('display.max_colwidth', None)\n",
    "pd.set_option('display.max_columns', 1000)\n",
    "pd.set_option('display.max_rows', 20000)"
   ]
  },
  {
   "cell_type": "markdown",
   "metadata": {
    "jp-MarkdownHeadingCollapsed": true
   },
   "source": [
    "## Загрузка KION датасета"
   ]
  },
  {
   "cell_type": "code",
   "execution_count": null,
   "metadata": {
    "collapsed": false,
    "jupyter": {
     "outputs_hidden": false
    }
   },
   "outputs": [],
   "source": [
    "import requests\n",
    "\n",
    "# download dataset by chunks\n",
    "url = \"https://github.com/sharthZ23/your-second-recsys/raw/master/data_kion.zip\"\n",
    "\n",
    "req = requests.get(url, stream=True)\n",
    "\n",
    "with open('data_kion.zip', \"wb\") as fd:\n",
    "    total_size_in_bytes = int(req.headers.get('Content-Length', 0))\n",
    "    progress_bar = tqdm(desc='kion dataset download', total=total_size_in_bytes, unit='iB', unit_scale=True)\n",
    "    for chunk in req.iter_content(chunk_size=2 ** 20):\n",
    "        progress_bar.update(len(chunk))\n",
    "        fd.write(chunk)"
   ]
  },
  {
   "cell_type": "code",
   "execution_count": null,
   "metadata": {
    "collapsed": false,
    "jupyter": {
     "outputs_hidden": false
    }
   },
   "outputs": [],
   "source": [
    "# Распаковываем архив из 3 файлов\n",
    "import zipfile\n",
    "\n",
    "with zipfile.ZipFile('data_kion.zip', 'r') as zip_ref:\n",
    "    zip_ref.extractall()"
   ]
  },
  {
   "cell_type": "markdown",
   "metadata": {
    "collapsed": false,
    "jupyter": {
     "outputs_hidden": false
    }
   },
   "source": [
    "## 1. Извлекаем просмотры \n",
    "\n",
    "- за две последних недели ```week2```"
   ]
  },
  {
   "cell_type": "code",
   "execution_count": 4,
   "metadata": {
    "collapsed": false,
    "jupyter": {
     "outputs_hidden": false
    }
   },
   "outputs": [],
   "source": [
    "interactions = pd.read_csv('data_kion/interactions_df.csv')\n",
    "\n",
    "interactions['last_watch_dt'] = pd.to_datetime(interactions['last_watch_dt']).map(lambda x: x.date())\n",
    "interactions['user_id'] = interactions['user_id'].astype(str)"
   ]
  },
  {
   "cell_type": "code",
   "execution_count": 5,
   "metadata": {
    "collapsed": false,
    "jupyter": {
     "outputs_hidden": false
    }
   },
   "outputs": [],
   "source": [
    "max_date = interactions['last_watch_dt'].max()\n",
    "\n",
    "week2 = interactions[interactions['last_watch_dt'] >= max_date - datetime.timedelta(days=14)]\n",
    "week2 = week2.groupby('user_id', as_index=False)[\"total_dur\"].sum()\n",
    "week2.total_dur = week2.total_dur.astype(np.int32)\n",
    "\n",
    "del interactions"
   ]
  },
  {
   "cell_type": "code",
   "execution_count": 6,
   "metadata": {
    "collapsed": false,
    "jupyter": {
     "outputs_hidden": false
    }
   },
   "outputs": [
    {
     "name": "stdout",
     "output_type": "stream",
     "text": [
      "Уникальных пользователей за две недели: 279129\n"
     ]
    }
   ],
   "source": [
    "print(\"Уникальных пользователей за две недели:\", week2.user_id.nunique())"
   ]
  },
  {
   "cell_type": "markdown",
   "metadata": {},
   "source": [
    "- Удаление выбросов ```total_dur```"
   ]
  },
  {
   "cell_type": "code",
   "execution_count": 13,
   "metadata": {},
   "outputs": [
    {
     "name": "stdout",
     "output_type": "stream",
     "text": [
      "Week2(total_dur): mean=21896 std=74516\n"
     ]
    }
   ],
   "source": [
    "print(f\"Week2(total_dur): mean={week2.total_dur.mean():.0f} std={week2.total_dur.std():.0f}\")"
   ]
  },
  {
   "cell_type": "code",
   "execution_count": 10,
   "metadata": {},
   "outputs": [
    {
     "data": {
      "image/png": "[encoded data removed]",
      "text/plain": [
       "<Figure size 640x480 with 1 Axes>"
      ]
     },
     "metadata": {},
     "output_type": "display_data"
    }
   ],
   "source": [
    "sns.boxplot(week2['total_dur'].values, fliersize=3, orient='h').set_title('week2(total_dur)');"
   ]
  },
  {
   "cell_type": "code",
   "execution_count": 14,
   "metadata": {
    "collapsed": false,
    "jupyter": {
     "outputs_hidden": false
    }
   },
   "outputs": [
    {
     "name": "stdout",
     "output_type": "stream",
     "text": [
      "(279129, 2)\n",
      "(275616, 2)\n"
     ]
    }
   ],
   "source": [
    "# Удалим выбросы в 3-х стандартных отклонениях\n",
    "\n",
    "print(week2.shape)\n",
    "week2 = week2[(week2['total_dur'] < week2['total_dur'].std() * 3)]\n",
    "print(week2.shape)"
   ]
  },
  {
   "cell_type": "code",
   "execution_count": 16,
   "metadata": {
    "collapsed": false,
    "jupyter": {
     "outputs_hidden": false
    }
   },
   "outputs": [
    {
     "data": {
      "image/png": "[encoded data removed]",
      "text/plain": [
       "<Figure size 640x480 with 1 Axes>"
      ]
     },
     "metadata": {},
     "output_type": "display_data"
    }
   ],
   "source": [
    "week2['total_dur'].hist(bins=100, grid=False).set_title(\"week2(total_dur)\");"
   ]
  },
  {
   "cell_type": "code",
   "execution_count": 17,
   "metadata": {},
   "outputs": [
    {
     "name": "stdout",
     "output_type": "stream",
     "text": [
      "Week2(total_dur): mean=16222 std=28341\n"
     ]
    }
   ],
   "source": [
    "print(f\"Week2(total_dur): mean={week2.total_dur.mean():.0f} std={week2.total_dur.std():.0f}\")"
   ]
  },
  {
   "cell_type": "markdown",
   "metadata": {
    "collapsed": false,
    "jupyter": {
     "outputs_hidden": false
    }
   },
   "source": [
    "## 2. Подбор пары: метрика + статистический тест"
   ]
  },
  {
   "cell_type": "code",
   "execution_count": 18,
   "metadata": {
    "collapsed": false,
    "jupyter": {
     "outputs_hidden": false
    },
    "scrolled": true
   },
   "outputs": [],
   "source": [
    "def salt_generator() -> str:\n",
    "    salt = os.urandom(8)\n",
    "    return b64encode(salt).decode('ascii')\n",
    "\n",
    "\n",
    "def groups_splitter(df: pd.DataFrame, \n",
    "                    columns: list[str], \n",
    "                    user_salt: str | None = None) -> pd.DataFrame:\n",
    "    salt = user_salt if user_salt else salt_generator()\n",
    "    \n",
    "    df = df.copy()\n",
    "    df['hash'] = ((df['user_id'].astype(str)) + '#' + salt).apply(lambda x: hashlib.sha256(x.encode('utf-8')).hexdigest())\n",
    "    df['group'] = ((df['hash'].str.slice(start=-6).apply(int, base=16) % 2).map(lambda x: 'A' if x == 0 else 'B'))\n",
    "    return df[columns]\n",
    "\n",
    "\n",
    "def calc_pvalue(week: pd.DataFrame, \n",
    "                col: str = 'total_dur', \n",
    "                criterion: Callable = stats.mannwhitneyu) -> float:\n",
    "    week_groups = groups_splitter(week, columns=['user_id', col, 'group'])\n",
    "    _, p = criterion(\n",
    "        week_groups[week_groups['group'] == 'A'][col].values,\n",
    "        week_groups[week_groups['group'] == 'B'][col].values\n",
    "    )\n",
    "    return p"
   ]
  },
  {
   "cell_type": "markdown",
   "metadata": {},
   "source": [
    "\n",
    "Валидация:\n",
    "\n",
    "**Распределение ```p_value```** при корректном подборе пары метрика + критерий - равномерное распределение\n",
    "\n",
    "**Корректность** - вероятность того, что найдет различие, когда его нет\n",
    "\n",
    "$$significance = P(\\text{reject }H_0 | H_0 \\text{ is true})$$\n",
    "$$ \\alpha = significance $$\n",
    "\n",
    "**Мощность** - вероятность того, что критерий найдет различие в случае, когда оно есть\n",
    "\n",
    "$$power = P(\\text{reject }H_0 | H_1 \\text{ is true})$$\n",
    "$$ \\beta = 1 - power = P(\\text{accept }H_0 | H_1 \\text{ is true}) $$\n"
   ]
  },
  {
   "cell_type": "code",
   "execution_count": 19,
   "metadata": {},
   "outputs": [],
   "source": [
    "metric_column = \"total_dur\""
   ]
  },
  {
   "cell_type": "markdown",
   "metadata": {},
   "source": [
    "- **Манна-Уитни**:"
   ]
  },
  {
   "cell_type": "code",
   "execution_count": 20,
   "metadata": {},
   "outputs": [
    {
     "name": "stdout",
     "output_type": "stream",
     "text": [
      "CPU times: total: 1min 58s\n",
      "Wall time: 4min 4s\n"
     ]
    },
    {
     "data": {
      "image/png": "[encoded data removed]",
      "text/plain": [
       "<Figure size 640x480 with 1 Axes>"
      ]
     },
     "metadata": {},
     "output_type": "display_data"
    }
   ],
   "source": [
    "%%time\n",
    "criterion=stats.mannwhitneyu\n",
    "\n",
    "pvalues_week2 = Parallel(n_jobs=-1)(delayed(calc_pvalue)(week2, metric_column, criterion) for _ in range(1000))\n",
    "plt.hist(pvalues_week2, bins=20, color='purple');"
   ]
  },
  {
   "cell_type": "code",
   "execution_count": 21,
   "metadata": {},
   "outputs": [
    {
     "name": "stdout",
     "output_type": "stream",
     "text": [
      "p_value = 0.23430875387568695 - p_values равномерное распределение\n",
      "I type error:  0.051\n"
     ]
    }
   ],
   "source": [
    "stat, p_value = scipy.stats.kstest(pvalues_week2, scipy.stats.uniform(loc=0.0, scale=1.0).cdf)\n",
    "if p_value < 0.05:\n",
    "    print(f'p_value = {p_value} - p_values неравномерное распределение')\n",
    "else:\n",
    "    print(f'p_value = {p_value} - p_values равномерное распределение')\n",
    "\n",
    "x = np.array(pvalues_week2)\n",
    "print(\"I type error: \", x[x < 0.05].shape[0] / x.shape[0])"
   ]
  },
  {
   "cell_type": "markdown",
   "metadata": {},
   "source": [
    "- **t-test**:"
   ]
  },
  {
   "cell_type": "code",
   "execution_count": 22,
   "metadata": {},
   "outputs": [
    {
     "name": "stdout",
     "output_type": "stream",
     "text": [
      "CPU times: total: 1min 41s\n",
      "Wall time: 2min 46s\n"
     ]
    },
    {
     "data": {
      "image/png": "[encoded data removed]",
      "text/plain": [
       "<Figure size 640x480 with 1 Axes>"
      ]
     },
     "metadata": {},
     "output_type": "display_data"
    }
   ],
   "source": [
    "%%time\n",
    "criterion=stats.ttest_ind\n",
    "\n",
    "pvalues_week2_ttest = Parallel(n_jobs=-1)(delayed(calc_pvalue)(week2, metric_column, criterion) for _ in range(1000))\n",
    "plt.hist(pvalues_week2_ttest, bins=20, color='purple');"
   ]
  },
  {
   "cell_type": "code",
   "execution_count": 23,
   "metadata": {},
   "outputs": [
    {
     "name": "stdout",
     "output_type": "stream",
     "text": [
      "p_value = 0.8484785028403148 - p_values равномерное распределение\n",
      "I type error:  0.044\n"
     ]
    }
   ],
   "source": [
    "stat, p_value = scipy.stats.kstest(pvalues_week2_ttest, scipy.stats.uniform(loc=0.0, scale=1.0).cdf)\n",
    "if p_value < 0.05:\n",
    "    print(f'p_value = {p_value} - p_values неравномерное распределение')\n",
    "else:\n",
    "    print(f'p_value = {p_value} - p_values равномерное распределение')\n",
    "\n",
    "x = np.array(pvalues_week2_ttest)\n",
    "print(\"I type error: \", x[x < 0.05].shape[0] / x.shape[0])"
   ]
  },
  {
   "cell_type": "markdown",
   "metadata": {},
   "source": [
    "**Вывод**:\n",
    "\n",
    "- все распределения ```p_values``` равномерны\n",
    "- ошибка первого рода варьируется около 0.05 для t-test и Манна-Уитни в зависимости от разбиения"
   ]
  },
  {
   "cell_type": "markdown",
   "metadata": {
    "collapsed": false,
    "jupyter": {
     "outputs_hidden": false
    }
   },
   "source": [
    "## 3. Дизайн A/B на Бутстрапе"
   ]
  },
  {
   "cell_type": "code",
   "execution_count": 37,
   "metadata": {},
   "outputs": [],
   "source": [
    "N = 1000"
   ]
  },
  {
   "cell_type": "markdown",
   "metadata": {
    "collapsed": false,
    "jupyter": {
     "outputs_hidden": false
    }
   },
   "source": [
    "### 3.1. Корректность"
   ]
  },
  {
   "cell_type": "code",
   "execution_count": 38,
   "metadata": {},
   "outputs": [],
   "source": [
    "@njit(parallel=True)\n",
    "def calc_bootstrap_mean(arr: np.array, size = 1000) -> np.array:\n",
    "    samplings = np.empty(size, dtype=float32)\n",
    "    for i in range(size):\n",
    "        sampling = np.random.choice(arr, size=arr.size, replace=True)\n",
    "        mean = np.mean(sampling)\n",
    "        samplings[i] = mean\n",
    "    return samplings\n",
    "\n",
    "\n",
    "def get_p_value(dist):\n",
    "    dist = np.array(dist)\n",
    "    x = (dist > 0).mean()\n",
    "    pvalue = min(x, 1 - x) * 2\n",
    "    return pvalue\n",
    "\n",
    "\n",
    "def bootstrap_correctness(week: pd.DataFrame, metric_column: str, alpha=0.05) -> (np.array, bool):\n",
    "    new_df = groups_splitter(week, columns=['user_id', metric_column, 'group'])\n",
    "\n",
    "    vec_a = new_df[(new_df['group'] == 'A')][metric_column]\n",
    "    vec_b = new_df[(new_df['group'] == 'B')][metric_column]\n",
    "\n",
    "    sample_a_mean = calc_bootstrap_mean(vec_a.to_numpy(), size=1000)\n",
    "    sample_b_mean = calc_bootstrap_mean(vec_b.to_numpy(), size=1000)\n",
    "    diff_mean = sample_a_mean - sample_b_mean\n",
    "\n",
    "    # Compute the confidence interval (e.g., 95% CI)\n",
    "    left_side, right_side = np.percentile(diff_mean, [100 * alpha / 2., 100 * (1 - alpha / 2.)])\n",
    "    # Reject equality of means when it's true\n",
    "    is_this_first_type_error = not left_side <= 0 <= right_side\n",
    "    \n",
    "    return get_p_value(diff_mean), is_this_first_type_error\n",
    "\n",
    "\n",
    "def test_correctness(week, metric_column):\n",
    "    result = Parallel(n_jobs=-1)(delayed(bootstrap_correctness)(week, metric_column) for _ in range(N))\n",
    "\n",
    "    p_values = [x[0] for x in result]\n",
    "\n",
    "    first_type_errors = [x[1] for x in result]\n",
    "    alpha = sum(first_type_errors) / len(first_type_errors)\n",
    "\n",
    "    print(f\"I type error: {alpha:.2f}\")\n",
    "\n",
    "    stat, p_value = scipy.stats.kstest(p_values, scipy.stats.uniform(loc=0.0, scale=1.0).cdf)\n",
    "    if p_value < 0.05:\n",
    "        print(f'p_value = {p_value} - p_values неравномерное распределение')\n",
    "    else:\n",
    "        print(f'p_value = {p_value} - p_values равномерное распределение')\n",
    "    return p_values, alpha"
   ]
  },
  {
   "cell_type": "code",
   "execution_count": 39,
   "metadata": {},
   "outputs": [],
   "source": [
    "metric_column=\"total_dur\""
   ]
  },
  {
   "cell_type": "code",
   "execution_count": 32,
   "metadata": {},
   "outputs": [
    {
     "name": "stdout",
     "output_type": "stream",
     "text": [
      "I type error: 0.05\n",
      "p_value = 0.023344526390774223 - p_values неравномерное распределение\n",
      "CPU times: total: 2min 31s\n",
      "Wall time: 14min 16s\n"
     ]
    }
   ],
   "source": [
    "%%time\n",
    "\n",
    "p_values, alpha = test_correctness(week2, metric_column)"
   ]
  },
  {
   "cell_type": "code",
   "execution_count": 33,
   "metadata": {
    "collapsed": false,
    "jupyter": {
     "outputs_hidden": false
    }
   },
   "outputs": [
    {
     "data": {
      "image/png": "[encoded data removed]",
      "text/plain": [
       "<Figure size 400x300 with 1 Axes>"
      ]
     },
     "metadata": {},
     "output_type": "display_data"
    }
   ],
   "source": [
    "plt.rcParams[\"figure.figsize\"] = (4,3)\n",
    "plt.hist(p_values, bins=10, color='purple')\n",
    "plt.title(f\"Бутстреп распределение p_value\");"
   ]
  },
  {
   "cell_type": "markdown",
   "metadata": {},
   "source": [
    "### 3.2. Мощность"
   ]
  },
  {
   "cell_type": "code",
   "execution_count": 40,
   "metadata": {},
   "outputs": [],
   "source": [
    "def generate_tweedie(mu, shape, p=1.5, phi=25):\n",
    "    tw = tweedie_gen()\n",
    "    return tw(p=p, mu=mu, phi=phi).rvs(shape)\n",
    "\n",
    "\n",
    "def bootstrap_power(week: pd.DataFrame, metric_col: str, effect: float, alpha=0.05) -> (np.array, bool):\n",
    "    new_df = groups_splitter(week, columns=['user_id', metric_col, 'group'])\n",
    "\n",
    "    vec_a = new_df[(new_df['group'] == 'A')][metric_col]\n",
    "    vec_b = new_df[(new_df['group'] == 'B')][metric_col]\n",
    "\n",
    "    # Effect\n",
    "    tw_values = generate_tweedie(effect * vec_b.mean(), vec_b.size)\n",
    "    vec_b += tw_values\n",
    "\n",
    "    sample_a_mean = calc_bootstrap_mean(vec_a.to_numpy(), size=1000)\n",
    "    sample_b_mean = calc_bootstrap_mean(vec_b.to_numpy(), size=1000)\n",
    "    diff_mean = sample_a_mean - sample_b_mean\n",
    "\n",
    "    # Compute the confidence interval (e.g., 95% CI)\n",
    "    left_side, right_side = np.percentile(diff_mean, [100 * alpha / 2., 100 * (1 - alpha / 2.)])\n",
    "    # Do not reject the equality of means when it's necessary to reject\n",
    "    is_this_second_type_error = left_side <= 0 <= right_side\n",
    "\n",
    "    return is_this_second_type_error\n",
    "\n",
    "\n",
    "def test_power(week, metric_column, effect):\n",
    "    second_type_errors = Parallel(n_jobs=-1)(delayed(bootstrap_power)(week, metric_column, effect) for _ in range(N))\n",
    "\n",
    "    beta = sum(second_type_errors) / len(second_type_errors)    \n",
    "    print(f\"II type error: {beta:.2f}\")\n",
    "    \n",
    "    return beta"
   ]
  },
  {
   "cell_type": "code",
   "execution_count": 47,
   "metadata": {},
   "outputs": [
    {
     "data": {
      "image/png": "[encoded data removed]",
      "text/plain": [
       "<Figure size 400x300 with 1 Axes>"
      ]
     },
     "metadata": {},
     "output_type": "display_data"
    }
   ],
   "source": [
    "effect = 0.03\n",
    "tw = generate_tweedie(effect * week2.total_dur.mean(), week2.total_dur.size)\n",
    "\n",
    "plt.hist(tw, bins=100, color='purple', alpha=0.7, label='TW')\n",
    "plt.hist(week2.total_dur, bins=200, color='orange', alpha=0.7, label='Week2')\n",
    "plt.legend()\n",
    "plt.title('total_dur')\n",
    "plt.ylim([0, 30000])\n",
    "plt.xlim([-1000, 30000])\n",
    "plt.tight_layout()"
   ]
  },
  {
   "cell_type": "markdown",
   "metadata": {},
   "source": [
    "- Эффект 1%:"
   ]
  },
  {
   "cell_type": "code",
   "execution_count": 36,
   "metadata": {},
   "outputs": [
    {
     "name": "stdout",
     "output_type": "stream",
     "text": [
      "II type error: 0.68\n",
      "CPU times: total: 2min 38s\n",
      "Wall time: 14min 51s\n"
     ]
    }
   ],
   "source": [
    "%%time\n",
    "\n",
    "effect = 0.01\n",
    "metric_column=\"total_dur\"\n",
    "\n",
    "beta = test_power(week2, metric_column, effect)"
   ]
  },
  {
   "cell_type": "markdown",
   "metadata": {},
   "source": [
    "- Эффект 3%:"
   ]
  },
  {
   "cell_type": "code",
   "execution_count": 38,
   "metadata": {},
   "outputs": [
    {
     "name": "stdout",
     "output_type": "stream",
     "text": [
      "II type error: 0.01\n",
      "CPU times: total: 2min 37s\n",
      "Wall time: 15min 3s\n"
     ]
    }
   ],
   "source": [
    "%%time\n",
    "\n",
    "effect = 0.03\n",
    "metric_column=\"total_dur\"\n",
    "\n",
    "beta = test_power(week2, metric_column, effect)"
   ]
  },
  {
   "cell_type": "markdown",
   "metadata": {},
   "source": [
    "- Эффект 5%:"
   ]
  },
  {
   "cell_type": "code",
   "execution_count": 40,
   "metadata": {},
   "outputs": [
    {
     "name": "stdout",
     "output_type": "stream",
     "text": [
      "II type error: 0.00\n",
      "CPU times: total: 2min 37s\n",
      "Wall time: 15min 1s\n"
     ]
    }
   ],
   "source": [
    "%%time\n",
    "\n",
    "effect = 0.05\n",
    "metric_column=\"total_dur\"\n",
    "\n",
    "beta = test_power(week2, metric_column, effect)"
   ]
  },
  {
   "cell_type": "markdown",
   "metadata": {},
   "source": [
    "- Эффект в 1% плохо детектируется\n",
    "- Эффект в 3% детектируется в 99% случаев\n",
    "- Эффект в 5% детектируется в более чем 99% случаев\n",
    "\n",
    "Стоит учесть что здесь я добавлял Tweedie эффект, а не увеличивал просмотры топ-10% пользователей, как в итоговом A/B тесте из домашнего задания.\n",
    "Поэтому разные эффекты могут давать разные $\\alpha$ и $\\beta$"
   ]
  },
  {
   "cell_type": "code",
   "execution_count": 84,
   "metadata": {},
   "outputs": [
    {
     "data": {
      "image/png": "[encoded data removed]",
      "text/plain": [
       "<Figure size 400x300 with 1 Axes>"
      ]
     },
     "metadata": {},
     "output_type": "display_data"
    }
   ],
   "source": [
    "plt.plot([1, 3, 5], [32, 99, 100])\n",
    "plt.grid()\n",
    "plt.ylabel(\"power, %\")\n",
    "plt.xlabel(\"effect, %\");"
   ]
  },
  {
   "cell_type": "markdown",
   "metadata": {},
   "source": [
    "### 3.3. Оценка MDE"
   ]
  },
  {
   "cell_type": "markdown",
   "metadata": {
    "collapsed": false,
    "jupyter": {
     "outputs_hidden": false
    }
   },
   "source": [
    "$$ MDE = \\frac{(z_{1 - \\frac{\\alpha}{2}} + z_{1 - \\beta}) * \\sqrt{\\sigma_{control}^2 + \\sigma_{experiment}^2}}{\\sqrt{N}} $$"
   ]
  },
  {
   "cell_type": "code",
   "execution_count": 48,
   "metadata": {
    "collapsed": false,
    "jupyter": {
     "outputs_hidden": false
    }
   },
   "outputs": [],
   "source": [
    "from scipy.stats import norm\n",
    "\n",
    "\n",
    "def get_mde(metric_vec, alpha=0.05, beta=0.2):\n",
    "\n",
    "    metric_mean, metric_std, metric_n = metric_vec.mean(), metric_vec.std(), metric_vec.count()\n",
    "\n",
    "    z_alpha = norm.ppf(1 - (alpha / 2), loc=0, scale=1)\n",
    "    z_beta = norm.ppf(1 - beta, loc=0, scale=1)\n",
    "\n",
    "    mde = (z_alpha + z_beta)*metric_std / np.sqrt(metric_n)\n",
    "    \n",
    "    return mde*100/metric_mean"
   ]
  },
  {
   "cell_type": "code",
   "execution_count": 85,
   "metadata": {},
   "outputs": [],
   "source": [
    "first_type_errors = [0.05, 0.1]\n",
    "second_type_errors = [0.68, 0.5, 0.2, 0.1, 0.05, 0.01]"
   ]
  },
  {
   "cell_type": "code",
   "execution_count": 86,
   "metadata": {},
   "outputs": [
    {
     "data": {
      "text/html": [
       "<div>\n",
       "<style scoped>\n",
       "    .dataframe tbody tr th:only-of-type {\n",
       "        vertical-align: middle;\n",
       "    }\n",
       "\n",
       "    .dataframe tbody tr th {\n",
       "        vertical-align: top;\n",
       "    }\n",
       "\n",
       "    .dataframe thead th {\n",
       "        text-align: right;\n",
       "    }\n",
       "</style>\n",
       "<table border=\"1\" class=\"dataframe\">\n",
       "  <thead>\n",
       "    <tr style=\"text-align: right;\">\n",
       "      <th></th>\n",
       "      <th>0.68</th>\n",
       "      <th>0.5</th>\n",
       "      <th>0.2</th>\n",
       "      <th>0.1</th>\n",
       "      <th>0.05</th>\n",
       "      <th>0.01</th>\n",
       "    </tr>\n",
       "    <tr>\n",
       "      <th>alpha</th>\n",
       "      <th></th>\n",
       "      <th></th>\n",
       "      <th></th>\n",
       "      <th></th>\n",
       "      <th></th>\n",
       "      <th></th>\n",
       "    </tr>\n",
       "  </thead>\n",
       "  <tbody>\n",
       "    <tr>\n",
       "      <th>0.05</th>\n",
       "      <td>0.5%</td>\n",
       "      <td>0.7%</td>\n",
       "      <td>0.9%</td>\n",
       "      <td>1.1%</td>\n",
       "      <td>1.2%</td>\n",
       "      <td>1.4%</td>\n",
       "    </tr>\n",
       "    <tr>\n",
       "      <th>0.10</th>\n",
       "      <td>0.4%</td>\n",
       "      <td>0.5%</td>\n",
       "      <td>0.8%</td>\n",
       "      <td>1.0%</td>\n",
       "      <td>1.1%</td>\n",
       "      <td>1.3%</td>\n",
       "    </tr>\n",
       "  </tbody>\n",
       "</table>\n",
       "</div>"
      ],
      "text/plain": [
       "       0.68   0.5   0.2   0.1  0.05  0.01\n",
       "alpha                                    \n",
       "0.05   0.5%  0.7%  0.9%  1.1%  1.2%  1.4%\n",
       "0.10   0.4%  0.5%  0.8%  1.0%  1.1%  1.3%"
      ]
     },
     "execution_count": 86,
     "metadata": {},
     "output_type": "execute_result"
    }
   ],
   "source": [
    "mde_week2 = []\n",
    "\n",
    "for a in first_type_errors:\n",
    "    mdes = {str(b): f\"{get_mde(week2.total_dur, alpha=a, beta=b):.1f}%\" for b in second_type_errors}\n",
    "    mdes[\"alpha\"] = a\n",
    "    mde_week2.append(mdes)\n",
    "    \n",
    "pd.DataFrame(mde_week2).set_index(\"alpha\")"
   ]
  },
  {
   "cell_type": "markdown",
   "metadata": {},
   "source": [
    "**Вывод**:\n",
    "- на большей выборке можем детектировать меньший эффект ☝️\n",
    "- с уменьшением $\\alpha$ и $\\beta$ - увеличивается минимальный детектируемый эффект"
   ]
  },
  {
   "cell_type": "markdown",
   "metadata": {},
   "source": [
    "## 4. A/B тест"
   ]
  },
  {
   "cell_type": "code",
   "execution_count": 51,
   "metadata": {},
   "outputs": [],
   "source": [
    "week2_test = week2.copy()"
   ]
  },
  {
   "cell_type": "markdown",
   "metadata": {},
   "source": [
    "Зануляем все просмотры меньше 500"
   ]
  },
  {
   "cell_type": "code",
   "execution_count": 58,
   "metadata": {},
   "outputs": [
    {
     "data": {
      "image/png": "[encoded data removed]",
      "text/plain": [
       "<Figure size 400x300 with 1 Axes>"
      ]
     },
     "metadata": {},
     "output_type": "display_data"
    }
   ],
   "source": [
    "week2_test.loc[week2_test[\"total_dur\"] < 500, \"total_dur\"] = 0\n",
    "\n",
    "sns.histplot(week2_test.total_dur, bins=1000)\n",
    "plt.axis(xmin=0, xmax=5000, ymax=10000)\n",
    "plt.tight_layout();"
   ]
  },
  {
   "cell_type": "markdown",
   "metadata": {},
   "source": [
    "\n",
    "Модель показала себя лучше, чем в группе B на 2.5%, причем эффект распространился на 10% самых смотрящих пользователей.\n",
    "\n",
    "=> Поэтому докину эффект 2.5% для топ-10 смотрящих пользователей в группу B"
   ]
  },
  {
   "cell_type": "code",
   "execution_count": 60,
   "metadata": {},
   "outputs": [],
   "source": [
    "salt = \"kiontestmodel20210805\"\n",
    "\n",
    "week2_groups = groups_splitter(week2_test, [\"user_id\", \"total_dur\", \"group\"], user_salt=salt)\n",
    "week2_groups.total_dur = week2_groups.total_dur.astype(float)"
   ]
  },
  {
   "cell_type": "code",
   "execution_count": 63,
   "metadata": {},
   "outputs": [
    {
     "data": {
      "text/html": [
       "<div>\n",
       "<style scoped>\n",
       "    .dataframe tbody tr th:only-of-type {\n",
       "        vertical-align: middle;\n",
       "    }\n",
       "\n",
       "    .dataframe tbody tr th {\n",
       "        vertical-align: top;\n",
       "    }\n",
       "\n",
       "    .dataframe thead th {\n",
       "        text-align: right;\n",
       "    }\n",
       "</style>\n",
       "<table border=\"1\" class=\"dataframe\">\n",
       "  <thead>\n",
       "    <tr style=\"text-align: right;\">\n",
       "      <th></th>\n",
       "      <th>user_id</th>\n",
       "      <th>total_dur</th>\n",
       "      <th>group</th>\n",
       "    </tr>\n",
       "  </thead>\n",
       "  <tbody>\n",
       "    <tr>\n",
       "      <th>223506</th>\n",
       "      <td>803922</td>\n",
       "      <td>0.0</td>\n",
       "      <td>B</td>\n",
       "    </tr>\n",
       "    <tr>\n",
       "      <th>61999</th>\n",
       "      <td>231833</td>\n",
       "      <td>0.0</td>\n",
       "      <td>A</td>\n",
       "    </tr>\n",
       "    <tr>\n",
       "      <th>62000</th>\n",
       "      <td>231838</td>\n",
       "      <td>0.0</td>\n",
       "      <td>B</td>\n",
       "    </tr>\n",
       "    <tr>\n",
       "      <th>57132</th>\n",
       "      <td>214158</td>\n",
       "      <td>223396.0</td>\n",
       "      <td>B</td>\n",
       "    </tr>\n",
       "    <tr>\n",
       "      <th>76042</th>\n",
       "      <td>281449</td>\n",
       "      <td>223477.0</td>\n",
       "      <td>A</td>\n",
       "    </tr>\n",
       "    <tr>\n",
       "      <th>24122</th>\n",
       "      <td>1085683</td>\n",
       "      <td>223485.0</td>\n",
       "      <td>B</td>\n",
       "    </tr>\n",
       "  </tbody>\n",
       "</table>\n",
       "</div>"
      ],
      "text/plain": [
       "        user_id  total_dur group\n",
       "223506   803922        0.0     B\n",
       "61999    231833        0.0     A\n",
       "62000    231838        0.0     B\n",
       "57132    214158   223396.0     B\n",
       "76042    281449   223477.0     A\n",
       "24122   1085683   223485.0     B"
      ]
     },
     "execution_count": 63,
     "metadata": {},
     "output_type": "execute_result"
    }
   ],
   "source": [
    "# отсортирую по total_dur\n",
    "week2_groups = week2_groups.sort_values(\"total_dur\")\n",
    "\n",
    "pd.concat([week2_groups.head(3), week2_groups.tail(3)], axis=0)"
   ]
  },
  {
   "cell_type": "code",
   "execution_count": 68,
   "metadata": {},
   "outputs": [],
   "source": [
    "group_b = week2_groups[week2_groups.group == \"B\"]\n",
    "top_10_watchers_group_b = group_b.index[int(len(group_b) * 0.9) :]"
   ]
  },
  {
   "cell_type": "code",
   "execution_count": 70,
   "metadata": {},
   "outputs": [
    {
     "data": {
      "text/html": [
       "<div>\n",
       "<style scoped>\n",
       "    .dataframe tbody tr th:only-of-type {\n",
       "        vertical-align: middle;\n",
       "    }\n",
       "\n",
       "    .dataframe tbody tr th {\n",
       "        vertical-align: top;\n",
       "    }\n",
       "\n",
       "    .dataframe thead th {\n",
       "        text-align: right;\n",
       "    }\n",
       "</style>\n",
       "<table border=\"1\" class=\"dataframe\">\n",
       "  <thead>\n",
       "    <tr style=\"text-align: right;\">\n",
       "      <th></th>\n",
       "      <th>user_id</th>\n",
       "      <th>total_dur</th>\n",
       "      <th>group</th>\n",
       "    </tr>\n",
       "  </thead>\n",
       "  <tbody>\n",
       "    <tr>\n",
       "      <th>223506</th>\n",
       "      <td>803922</td>\n",
       "      <td>0.000</td>\n",
       "      <td>B</td>\n",
       "    </tr>\n",
       "    <tr>\n",
       "      <th>61999</th>\n",
       "      <td>231833</td>\n",
       "      <td>0.000</td>\n",
       "      <td>A</td>\n",
       "    </tr>\n",
       "    <tr>\n",
       "      <th>62000</th>\n",
       "      <td>231838</td>\n",
       "      <td>0.000</td>\n",
       "      <td>B</td>\n",
       "    </tr>\n",
       "    <tr>\n",
       "      <th>57132</th>\n",
       "      <td>214158</td>\n",
       "      <td>228980.900</td>\n",
       "      <td>B</td>\n",
       "    </tr>\n",
       "    <tr>\n",
       "      <th>76042</th>\n",
       "      <td>281449</td>\n",
       "      <td>223477.000</td>\n",
       "      <td>A</td>\n",
       "    </tr>\n",
       "    <tr>\n",
       "      <th>24122</th>\n",
       "      <td>1085683</td>\n",
       "      <td>229072.125</td>\n",
       "      <td>B</td>\n",
       "    </tr>\n",
       "  </tbody>\n",
       "</table>\n",
       "</div>"
      ],
      "text/plain": [
       "        user_id   total_dur group\n",
       "223506   803922       0.000     B\n",
       "61999    231833       0.000     A\n",
       "62000    231838       0.000     B\n",
       "57132    214158  228980.900     B\n",
       "76042    281449  223477.000     A\n",
       "24122   1085683  229072.125     B"
      ]
     },
     "execution_count": 70,
     "metadata": {},
     "output_type": "execute_result"
    }
   ],
   "source": [
    "# Effect for B group\n",
    "effect = 1.025\n",
    "week2_groups.loc[top_10_watchers_group_b, \"total_dur\"] *= effect\n",
    "\n",
    "pd.concat([week2_groups.head(3), week2_groups.tail(3)], axis=0)"
   ]
  },
  {
   "cell_type": "code",
   "execution_count": 102,
   "metadata": {},
   "outputs": [
    {
     "name": "stdout",
     "output_type": "stream",
     "text": [
      "(18.421093750000004, 445.92226562499997)\n",
      "H_0 отвергнута: True\n"
     ]
    }
   ],
   "source": [
    "metric_column = \"total_dur\"\n",
    "alpha = 0.05\n",
    "\n",
    "vec_a = week2_groups[(week2_groups['group'] == 'A')][metric_column]\n",
    "vec_b = week2_groups[(week2_groups['group'] == 'B')][metric_column]\n",
    "\n",
    "sample_a_mean = calc_bootstrap_mean(vec_a.to_numpy(), size=1000)\n",
    "sample_b_mean = calc_bootstrap_mean(vec_b.to_numpy(), size=1000)\n",
    "diff_mean = sample_b_mean - sample_a_mean\n",
    "\n",
    "left_side, right_side = np.percentile(diff_mean, [100 * alpha / 2., 100 * (1 - alpha / 2.)])\n",
    "print((left_side, right_side))\n",
    "print(\"H_0 отвергнута:\", not left_side < 0 < right_side)"
   ]
  },
  {
   "attachments": {},
   "cell_type": "markdown",
   "metadata": {},
   "source": [
    "**Вывод**:\n",
    "\n",
    "С вероятностью 95% математическое ожидание разностей средних групп A и B лежит правее нуля, поэтому мы отвергаем нулевую гипотезу ```H_0``` об отсутствии изменеий между группами и принимаем альтернитивную гипотезу ```H_a``` о наличии эффекта между группами A и B.\n",
    "\n",
    "При $\\alpha = 0.05$ и $\\beta = 0.2$ минимальный задетектированный эффект составил ```0.9%```"
   ]
  },
  {
   "cell_type": "code",
   "execution_count": null,
   "metadata": {},
   "outputs": [],
   "source": []
  },
  {
   "cell_type": "code",
   "execution_count": null,
   "metadata": {},
   "outputs": [],
   "source": []
  },
  {
   "cell_type": "markdown",
   "metadata": {
    "collapsed": false,
    "jupyter": {
     "outputs_hidden": false
    }
   },
   "source": [
    "# ДЗ 1:\n",
    "\n",
    "### Дизайн теста\n",
    "1) Из interactions взять данные за 2 последние недели (2021-08-09 по 2021-08-22)\n",
    "\n",
    "2) Посчитайте на этих данных корректность на бутстрепе и сравните ее с результатами за 1 неделю (посчитано на семинаре) (0.5 балла)\n",
    "\n",
    "3) На двух неделях посчитайте мощность. Для этого нужно в одну из групп докинуть эффект. Докиньте эффект в 1%, 3% и 5% и сравните полученную мощность (1.5 балла)\n",
    "\n",
    "4) Посчитайте MDE, который можно зафиксировать на 2х неделях. В качестве alpha и beta подставьте ваши вычисленные ошибки 1 и 2 рода. Учитывайте что у нас формула для MDE работает для t-test или z-test (1 балл)\n",
    "\n",
    "### A/B тест\n",
    "1) Представим что у нас прошел тест, используем те же самые данные за 2 недели\n",
    "\n",
    "2) Занулите для всех пользователей total_dur, у которых total_dur < 500. Их НЕ УБИРАЕМ, а просто обрабатываем эти значения, принимая за нулевые, но пользователей также учитываем в эксперименте (0.5 балла)\n",
    "\n",
    "3) Разбейте их самостоятельно на две равные группы, используйте функцию groups_splitter и соль = 'kiontestmodel20210805' (0.5 балла)\n",
    "\n",
    "4) Оказалось, что модель в группе В показала себя лучше, чем в группе А на 2.5%, причем эффект распространился неравномерно и преимущественно на 10% самых смотрящих пользователей, докиньте такой эффект самостоятельно. Нужно метрику total_dur увеличить на 2.5% для 10% пользователей с самым продолжительным смотрением. (1 балл)\n",
    "\n",
    "5) Посчитайте результат такого теста и сделайте выводы (2 балла)\n",
    "\n",
    "Еще 1 балл можно получить за хорошее и подробное объяснение каждого шага"
   ]
  },
  {
   "cell_type": "markdown",
   "metadata": {
    "collapsed": false,
    "jupyter": {
     "outputs_hidden": false
    }
   },
   "source": [
    "СОВЕТ: Т.к бутстрэп считается долго, то для дз отлаживаем код на малом количестве итераций, а результаты уже показываем на 1000+"
   ]
  }
 ],
 "metadata": {
  "kernelspec": {
   "display_name": "Python 3 (ipykernel)",
   "language": "python",
   "name": "python3"
  },
  "language_info": {
   "codemirror_mode": {
    "name": "ipython",
    "version": 3
   },
   "file_extension": ".py",
   "mimetype": "text/x-python",
   "name": "python",
   "nbconvert_exporter": "python",
   "pygments_lexer": "ipython3",
   "version": "3.11.0"
  }
 },
 "nbformat": 4,
 "nbformat_minor": 4
}
