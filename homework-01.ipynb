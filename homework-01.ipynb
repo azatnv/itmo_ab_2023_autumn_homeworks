{
 "cells": [
  {
   "cell_type": "markdown",
   "metadata": {
    "collapsed": false,
    "jp-MarkdownHeadingCollapsed": true,
    "jupyter": {
     "outputs_hidden": false
    }
   },
   "source": [
    "## Практическая работа №1. Азат Сибагатулин"
   ]
  },
  {
   "cell_type": "code",
   "execution_count": null,
   "metadata": {},
   "outputs": [],
   "source": [
    " !pip install scipy matplotlib statsmodels pandas seaborn tqdm scikit-learn numba tweedie"
   ]
  },
  {
   "cell_type": "code",
   "execution_count": 1,
   "metadata": {
    "collapsed": false,
    "jupyter": {
     "outputs_hidden": false
    }
   },
   "outputs": [],
   "source": [
    "import numpy as np\n",
    "import pandas as pd\n",
    "import scipy\n",
    "import matplotlib.pyplot as plt\n",
    "import scipy.stats as stats\n",
    "from tweedie.tweedie_dist import tweedie_gen\n",
    "\n",
    "import matplotlib.pyplot as plt\n",
    "import seaborn as sns\n",
    "\n",
    "import os\n",
    "from tqdm import tqdm\n",
    "from sklearn.utils import shuffle\n",
    "import hashlib\n",
    "from typing import Callable\n",
    "from base64 import b64encode\n",
    "import collections\n",
    "import datetime\n",
    "\n",
    "from numba import njit, float32\n",
    "from joblib import Parallel, delayed"
   ]
  },
  {
   "cell_type": "code",
   "execution_count": 2,
   "metadata": {
    "collapsed": false,
    "jupyter": {
     "outputs_hidden": false
    }
   },
   "outputs": [],
   "source": [
    "pd.set_option('display.max_colwidth', None)\n",
    "pd.set_option('display.max_columns', 1000)\n",
    "pd.set_option('display.max_rows', 20000)"
   ]
  },
  {
   "cell_type": "markdown",
   "metadata": {
    "jp-MarkdownHeadingCollapsed": true
   },
   "source": [
    "## Загрузка KION датасета"
   ]
  },
  {
   "cell_type": "code",
   "execution_count": null,
   "metadata": {
    "collapsed": false,
    "jupyter": {
     "outputs_hidden": false
    }
   },
   "outputs": [],
   "source": [
    "import requests\n",
    "\n",
    "# download dataset by chunks\n",
    "url = \"https://github.com/sharthZ23/your-second-recsys/raw/master/data_kion.zip\"\n",
    "\n",
    "req = requests.get(url, stream=True)\n",
    "\n",
    "with open('data_kion.zip', \"wb\") as fd:\n",
    "    total_size_in_bytes = int(req.headers.get('Content-Length', 0))\n",
    "    progress_bar = tqdm(desc='kion dataset download', total=total_size_in_bytes, unit='iB', unit_scale=True)\n",
    "    for chunk in req.iter_content(chunk_size=2 ** 20):\n",
    "        progress_bar.update(len(chunk))\n",
    "        fd.write(chunk)"
   ]
  },
  {
   "cell_type": "code",
   "execution_count": null,
   "metadata": {
    "collapsed": false,
    "jupyter": {
     "outputs_hidden": false
    }
   },
   "outputs": [],
   "source": [
    "# Распаковываем архив из 3 файлов\n",
    "import zipfile\n",
    "\n",
    "with zipfile.ZipFile('data_kion.zip', 'r') as zip_ref:\n",
    "    zip_ref.extractall()"
   ]
  },
  {
   "cell_type": "markdown",
   "metadata": {
    "collapsed": false,
    "jp-MarkdownHeadingCollapsed": true,
    "jupyter": {
     "outputs_hidden": false
    }
   },
   "source": [
    "## 1. Извлекаем просмотры \n",
    "\n",
    " - за последнюю неделю ```week1```\n",
    " - за две последних недели ```week2```"
   ]
  },
  {
   "cell_type": "code",
   "execution_count": 3,
   "metadata": {
    "collapsed": false,
    "jupyter": {
     "outputs_hidden": false
    }
   },
   "outputs": [],
   "source": [
    "interactions = pd.read_csv('data_kion/interactions_df.csv')\n",
    "\n",
    "interactions['last_watch_dt'] = pd.to_datetime(interactions['last_watch_dt']).map(lambda x: x.date())\n",
    "interactions['user_id'] = interactions['user_id'].astype(str)"
   ]
  },
  {
   "cell_type": "code",
   "execution_count": 4,
   "metadata": {
    "collapsed": false,
    "jupyter": {
     "outputs_hidden": false
    }
   },
   "outputs": [],
   "source": [
    "max_date = interactions['last_watch_dt'].max()\n",
    "\n",
    "week1 = interactions[interactions['last_watch_dt'] >= max_date - datetime.timedelta(days=7)]\n",
    "week1 = week1.groupby('user_id', as_index=False)[\"total_dur\"].sum()\n",
    "week1.total_dur = week1.total_dur.astype(np.int32)\n",
    "\n",
    "week2 = interactions[interactions['last_watch_dt'] >= max_date - datetime.timedelta(days=14)]\n",
    "week2 = week2.groupby('user_id', as_index=False)[\"total_dur\"].sum()\n",
    "week2.total_dur = week2.total_dur.astype(np.int32)\n",
    "\n",
    "del interactions"
   ]
  },
  {
   "cell_type": "code",
   "execution_count": 5,
   "metadata": {
    "collapsed": false,
    "jupyter": {
     "outputs_hidden": false
    }
   },
   "outputs": [
    {
     "name": "stdout",
     "output_type": "stream",
     "text": [
      "Уникальных пользователей за одну неделю: 185907\n",
      "Уникальных пользователей за две недели: 279129\n"
     ]
    }
   ],
   "source": [
    "print(\"Уникальных пользователей за одну неделю:\", week1.user_id.nunique())\n",
    "print(\"Уникальных пользователей за две недели:\", week2.user_id.nunique())"
   ]
  },
  {
   "cell_type": "markdown",
   "metadata": {},
   "source": [
    "- Уменьшаю дисперсию в метрике ```total_dur``` (теряется эффект на топ-пользователях):"
   ]
  },
  {
   "cell_type": "code",
   "execution_count": 6,
   "metadata": {},
   "outputs": [
    {
     "name": "stdout",
     "output_type": "stream",
     "text": [
      "Week1(total_dur): mean=17860 std=62640\n",
      "Week2(total_dur): mean=21896 std=74516\n"
     ]
    }
   ],
   "source": [
    "print(f\"Week1(total_dur): mean={week1.total_dur.mean():.0f} std={week1.total_dur.std():.0f}\")\n",
    "print(f\"Week2(total_dur): mean={week2.total_dur.mean():.0f} std={week2.total_dur.std():.0f}\")"
   ]
  },
  {
   "cell_type": "code",
   "execution_count": 7,
   "metadata": {},
   "outputs": [
    {
     "data": {
      "image/png": "[encoded data removed]",
      "text/plain": [
       "<Figure size 800x300 with 2 Axes>"
      ]
     },
     "metadata": {},
     "output_type": "display_data"
    }
   ],
   "source": [
    "fig, axs = plt.subplots(ncols=2, figsize=(8, 3))\n",
    "sns.boxplot(week1['total_dur'].values, fliersize=3, orient='h', ax=axs[0]).set_title('week1(total_dur)')\n",
    "sns.boxplot(week2['total_dur'].values, fliersize=3, orient='h', ax=axs[1]).set_title('week2(total_dur)');"
   ]
  },
  {
   "cell_type": "code",
   "execution_count": 8,
   "metadata": {
    "collapsed": false,
    "jupyter": {
     "outputs_hidden": false
    }
   },
   "outputs": [
    {
     "name": "stdout",
     "output_type": "stream",
     "text": [
      "(185907, 2)\n",
      "(183790, 2)\n",
      "(279129, 2)\n",
      "(275616, 2)\n"
     ]
    }
   ],
   "source": [
    "# Удалим выбросы в 3-х стандартных отклонениях\n",
    "\n",
    "print(week1.shape)\n",
    "week1 = week1[(week1['total_dur'] < week1['total_dur'].std() * 3)]\n",
    "print(week1.shape)\n",
    "\n",
    "print(week2.shape)\n",
    "week2 = week2[(week2['total_dur'] < week2['total_dur'].std() * 3)]\n",
    "print(week2.shape)"
   ]
  },
  {
   "cell_type": "code",
   "execution_count": 9,
   "metadata": {
    "collapsed": false,
    "jupyter": {
     "outputs_hidden": false
    }
   },
   "outputs": [
    {
     "data": {
      "text/plain": [
       "Text(0.5, 1.0, 'week2(total_dur)')"
      ]
     },
     "execution_count": 9,
     "metadata": {},
     "output_type": "execute_result"
    },
    {
     "data": {
      "image/png": "[encoded data removed]",
      "text/plain": [
       "<Figure size 800x300 with 2 Axes>"
      ]
     },
     "metadata": {},
     "output_type": "display_data"
    }
   ],
   "source": [
    "fig, axs = plt.subplots(ncols=2, figsize=(8, 3))\n",
    "week1['total_dur'].hist(bins=100, ax=axs[0], grid=False).set_title(\"week1(total_dur)\")\n",
    "week2['total_dur'].hist(bins=100, ax=axs[1], grid=False).set_title(\"week2(total_dur)\")"
   ]
  },
  {
   "cell_type": "code",
   "execution_count": 10,
   "metadata": {},
   "outputs": [
    {
     "name": "stdout",
     "output_type": "stream",
     "text": [
      "Week1(total_dur): mean=13375 std=23355\n",
      "Week2(total_dur): mean=16222 std=28341\n"
     ]
    }
   ],
   "source": [
    "print(f\"Week1(total_dur): mean={week1.total_dur.mean():.0f} std={week1.total_dur.std():.0f}\")\n",
    "print(f\"Week2(total_dur): mean={week2.total_dur.mean():.0f} std={week2.total_dur.std():.0f}\")"
   ]
  },
  {
   "cell_type": "code",
   "execution_count": 11,
   "metadata": {},
   "outputs": [
    {
     "data": {
      "image/png": "[encoded data removed]",
      "text/plain": [
       "<Figure size 800x300 with 2 Axes>"
      ]
     },
     "metadata": {},
     "output_type": "display_data"
    }
   ],
   "source": [
    "week1['total_dur_ln'] = np.log(week1['total_dur'])\n",
    "week2['total_dur_ln'] = np.log(week2['total_dur'])\n",
    "\n",
    "fig, axs = plt.subplots(ncols=2, figsize=(8, 3))\n",
    "week1['total_dur_ln'].hist(bins=100, ax=axs[0], grid=False).set_title(\"week1(total_dur_ln)\")\n",
    "week2['total_dur_ln'].hist(bins=100, ax=axs[1], grid=False).set_title(\"week2(total_dur_ln)\");"
   ]
  },
  {
   "cell_type": "code",
   "execution_count": 12,
   "metadata": {},
   "outputs": [
    {
     "name": "stdout",
     "output_type": "stream",
     "text": [
      "Week1(total_dur_ln): mean=8 std=2\n",
      "Week2(total_dur_ln): mean=8 std=2\n"
     ]
    }
   ],
   "source": [
    "print(f\"Week1(total_dur_ln): mean={week1.total_dur_ln.mean():.0f} std={week1.total_dur_ln.std():.0f}\")\n",
    "print(f\"Week2(total_dur_ln): mean={week2.total_dur_ln.mean():.0f} std={week2.total_dur_ln.std():.0f}\")"
   ]
  },
  {
   "cell_type": "markdown",
   "metadata": {
    "collapsed": false,
    "jp-MarkdownHeadingCollapsed": true,
    "jupyter": {
     "outputs_hidden": false
    }
   },
   "source": [
    "## 2. Подбор пары: метрика + статистический тест"
   ]
  },
  {
   "cell_type": "code",
   "execution_count": 13,
   "metadata": {
    "collapsed": false,
    "jupyter": {
     "outputs_hidden": false
    },
    "scrolled": true
   },
   "outputs": [],
   "source": [
    "def salt_generator() -> str:\n",
    "    salt = os.urandom(8)\n",
    "    return b64encode(salt).decode('ascii')\n",
    "\n",
    "\n",
    "def groups_splitter(df: pd.DataFrame, \n",
    "                    columns: list[str], \n",
    "                    user_salt: str | None = None) -> pd.DataFrame:\n",
    "    salt = user_salt if user_salt else salt_generator()\n",
    "    \n",
    "    df = df.copy()\n",
    "    df['hash'] = ((df['user_id'].astype(str)) + '#' + salt).apply(lambda x: hashlib.sha256(x.encode('utf-8')).hexdigest())\n",
    "    df['group'] = ((df['hash'].str.slice(start=-6).apply(int, base=16) % 2).map(lambda x: 'A' if x == 0 else 'B'))\n",
    "    return df[columns]\n",
    "\n",
    "\n",
    "def calc_pvalue(week: pd.DataFrame, \n",
    "                col: str = 'total_dur', \n",
    "                criterion: Callable = stats.mannwhitneyu) -> float:\n",
    "    week_groups = groups_splitter(week, columns=['user_id', col, 'group'])\n",
    "    _, p = criterion(\n",
    "        week_groups[week_groups['group'] == 'A'][col].values,\n",
    "        week_groups[week_groups['group'] == 'B'][col].values\n",
    "    )\n",
    "    return p"
   ]
  },
  {
   "cell_type": "markdown",
   "metadata": {},
   "source": [
    "\n",
    "Валидация:\n",
    "\n",
    "**Распределение ```p_value```** при корректном подборе пары метрика + критерий - равномерное распределение\n",
    "\n",
    "**Корректность** - вероятность того, что найдет различие, когда его нет\n",
    "\n",
    "$$significance = P(\\text{reject }H_0 | H_0 \\text{ is true})$$\n",
    "$$ \\alpha = significance $$\n",
    "\n",
    "**Мощность** - вероятность того, что критерий найдет различие в случае, когда оно есть\n",
    "\n",
    "$$power = P(\\text{reject }H_0 | H_1 \\text{ is true})$$\n",
    "$$ \\beta = 1 - power = P(\\text{accept }H_0 | H_1 \\text{ is true}) $$\n"
   ]
  },
  {
   "cell_type": "markdown",
   "metadata": {},
   "source": [
    "### 1. ```total_dur```"
   ]
  },
  {
   "cell_type": "code",
   "execution_count": 313,
   "metadata": {},
   "outputs": [],
   "source": [
    "metric_column = \"total_dur\""
   ]
  },
  {
   "cell_type": "markdown",
   "metadata": {},
   "source": [
    "- **Манна-Уитни** для ```week1```:"
   ]
  },
  {
   "cell_type": "code",
   "execution_count": 314,
   "metadata": {},
   "outputs": [
    {
     "name": "stdout",
     "output_type": "stream",
     "text": [
      "CPU times: total: 1min 16s\n",
      "Wall time: 2min\n"
     ]
    },
    {
     "data": {
      "image/png": "[encoded data removed]",
      "text/plain": [
       "<Figure size 400x300 with 1 Axes>"
      ]
     },
     "metadata": {},
     "output_type": "display_data"
    }
   ],
   "source": [
    "%%time\n",
    "criterion=stats.mannwhitneyu\n",
    "\n",
    "pvalues_week1 = Parallel(n_jobs=-1)(delayed(calc_pvalue)(week1, metric_column, criterion) for _ in range(1000))\n",
    "plt.hist(pvalues_week1, bins=20, color='purple');"
   ]
  },
  {
   "cell_type": "code",
   "execution_count": 315,
   "metadata": {},
   "outputs": [
    {
     "name": "stdout",
     "output_type": "stream",
     "text": [
      "p_value = 0.5076940804652883 - p_values равномерное распределение\n",
      "week1: Доля экспериментов, в которых H_0 была отвергнута (Манна-Уитни): 0.055\n"
     ]
    }
   ],
   "source": [
    "stat, p_value = scipy.stats.kstest(pvalues_week1, scipy.stats.uniform(loc=0.0, scale=1.0).cdf)\n",
    "if p_value < 0.05:\n",
    "    print(f'p_value = {p_value} - p_values неравномерное распределение')\n",
    "else:\n",
    "    print(f'p_value = {p_value} - p_values равномерное распределение')\n",
    "\n",
    "x = np.array(pvalues_week1)\n",
    "print(\"week1: Доля экспериментов, в которых H_0 была отвергнута (Манна-Уитни):\", x[x < 0.05].shape[0] / x.shape[0])"
   ]
  },
  {
   "cell_type": "markdown",
   "metadata": {},
   "source": [
    "- **Манна-Уитни** для ```week2```:"
   ]
  },
  {
   "cell_type": "code",
   "execution_count": 316,
   "metadata": {},
   "outputs": [
    {
     "name": "stdout",
     "output_type": "stream",
     "text": [
      "CPU times: total: 1min 58s\n",
      "Wall time: 2min 54s\n"
     ]
    },
    {
     "data": {
      "image/png": "[encoded data removed]",
      "text/plain": [
       "<Figure size 400x300 with 1 Axes>"
      ]
     },
     "metadata": {},
     "output_type": "display_data"
    }
   ],
   "source": [
    "%%time\n",
    "criterion=stats.mannwhitneyu\n",
    "\n",
    "pvalues_week2 = Parallel(n_jobs=-1)(delayed(calc_pvalue)(week2, metric_column, criterion) for _ in range(1000))\n",
    "plt.hist(pvalues_week2, bins=20, color='purple');"
   ]
  },
  {
   "cell_type": "code",
   "execution_count": 317,
   "metadata": {},
   "outputs": [
    {
     "name": "stdout",
     "output_type": "stream",
     "text": [
      "p_value = 0.11242248470512628 - p_values равномерное распределение\n",
      "week2: Доля экспериментов, в которых H_0 была отвергнута (Манна-Уитни): 0.049\n"
     ]
    }
   ],
   "source": [
    "stat, p_value = scipy.stats.kstest(pvalues_week2, scipy.stats.uniform(loc=0.0, scale=1.0).cdf)\n",
    "if p_value < 0.05:\n",
    "    print(f'p_value = {p_value} - p_values неравномерное распределение')\n",
    "else:\n",
    "    print(f'p_value = {p_value} - p_values равномерное распределение')\n",
    "\n",
    "x = np.array(pvalues_week2)\n",
    "print(\"week2: Доля экспериментов, в которых H_0 была отвергнута (Манна-Уитни):\", x[x < 0.05].shape[0] / x.shape[0])"
   ]
  },
  {
   "cell_type": "markdown",
   "metadata": {},
   "source": [
    "- **t-test** для ```week1```:"
   ]
  },
  {
   "cell_type": "code",
   "execution_count": 318,
   "metadata": {},
   "outputs": [
    {
     "name": "stdout",
     "output_type": "stream",
     "text": [
      "CPU times: total: 1min 22s\n",
      "Wall time: 1min 42s\n"
     ]
    },
    {
     "data": {
      "image/png": "[encoded data removed]",
      "text/plain": [
       "<Figure size 400x300 with 1 Axes>"
      ]
     },
     "metadata": {},
     "output_type": "display_data"
    }
   ],
   "source": [
    "%%time\n",
    "criterion=stats.ttest_ind\n",
    "\n",
    "pvalues_week1_ttest = Parallel(n_jobs=-1)(delayed(calc_pvalue)(week1, metric_column, criterion) for _ in range(1000))\n",
    "plt.hist(pvalues_week1_ttest, bins=20, color='purple');"
   ]
  },
  {
   "cell_type": "code",
   "execution_count": 319,
   "metadata": {},
   "outputs": [
    {
     "name": "stdout",
     "output_type": "stream",
     "text": [
      "p_value = 0.5183924034553247 - p_values равномерное распределение\n",
      "week1: Доля экспериментов, в которых H_0 была отвергнута (t-test): 0.045\n"
     ]
    }
   ],
   "source": [
    "stat, p_value = scipy.stats.kstest(pvalues_week1_ttest, scipy.stats.uniform(loc=0.0, scale=1.0).cdf)\n",
    "if p_value < 0.05:\n",
    "    print(f'p_value = {p_value} - p_values неравномерное распределение')\n",
    "else:\n",
    "    print(f'p_value = {p_value} - p_values равномерное распределение')\n",
    "\n",
    "x = np.array(pvalues_week1_ttest)\n",
    "print(\"week1: Доля экспериментов, в которых H_0 была отвергнута (t-test):\", x[x < 0.05].shape[0] / x.shape[0])"
   ]
  },
  {
   "cell_type": "markdown",
   "metadata": {},
   "source": [
    "- **t-test** для ```week2```:"
   ]
  },
  {
   "cell_type": "code",
   "execution_count": 320,
   "metadata": {},
   "outputs": [
    {
     "name": "stdout",
     "output_type": "stream",
     "text": [
      "CPU times: total: 1min 53s\n",
      "Wall time: 2min 26s\n"
     ]
    },
    {
     "data": {
      "image/png": "[encoded data removed]",
      "text/plain": [
       "<Figure size 400x300 with 1 Axes>"
      ]
     },
     "metadata": {},
     "output_type": "display_data"
    }
   ],
   "source": [
    "%%time\n",
    "criterion=stats.ttest_ind\n",
    "\n",
    "pvalues_week2_ttest = Parallel(n_jobs=-1)(delayed(calc_pvalue)(week2, metric_column, criterion) for _ in range(1000))\n",
    "plt.hist(pvalues_week2_ttest, bins=20, color='purple');"
   ]
  },
  {
   "cell_type": "code",
   "execution_count": 321,
   "metadata": {},
   "outputs": [
    {
     "name": "stdout",
     "output_type": "stream",
     "text": [
      "p_value = 0.2988559847223685 - p_values равномерное распределение\n",
      "week1: Доля экспериментов, в которых H_0 была отвергнута (t-test): 0.061\n"
     ]
    }
   ],
   "source": [
    "stat, p_value = scipy.stats.kstest(pvalues_week2_ttest, scipy.stats.uniform(loc=0.0, scale=1.0).cdf)\n",
    "if p_value < 0.05:\n",
    "    print(f'p_value = {p_value} - p_values неравномерное распределение')\n",
    "else:\n",
    "    print(f'p_value = {p_value} - p_values равномерное распределение')\n",
    "\n",
    "x = np.array(pvalues_week2_ttest)\n",
    "print(\"week1: Доля экспериментов, в которых H_0 была отвергнута (t-test):\", x[x < 0.05].shape[0] / x.shape[0])"
   ]
  },
  {
   "cell_type": "markdown",
   "metadata": {},
   "source": [
    "### 2. ```total_dur_ln```"
   ]
  },
  {
   "cell_type": "code",
   "execution_count": 322,
   "metadata": {},
   "outputs": [],
   "source": [
    "metric_column = \"total_dur_ln\""
   ]
  },
  {
   "cell_type": "markdown",
   "metadata": {},
   "source": [
    "- **Манна-Уитни** для ```week1```:"
   ]
  },
  {
   "cell_type": "code",
   "execution_count": 323,
   "metadata": {},
   "outputs": [
    {
     "name": "stdout",
     "output_type": "stream",
     "text": [
      "CPU times: total: 1min 24s\n",
      "Wall time: 1min 50s\n"
     ]
    },
    {
     "data": {
      "image/png": "[encoded data removed]",
      "text/plain": [
       "<Figure size 400x300 with 1 Axes>"
      ]
     },
     "metadata": {},
     "output_type": "display_data"
    }
   ],
   "source": [
    "%%time\n",
    "criterion=stats.mannwhitneyu\n",
    "\n",
    "pvalues_week1 = Parallel(n_jobs=-1)(delayed(calc_pvalue)(week1, metric_column, criterion) for _ in range(1000))\n",
    "plt.hist(pvalues_week1, bins=20, color='purple');"
   ]
  },
  {
   "cell_type": "code",
   "execution_count": 324,
   "metadata": {},
   "outputs": [
    {
     "name": "stdout",
     "output_type": "stream",
     "text": [
      "p_value = 0.8689500159735459 - p_values равномерное распределение\n",
      "week1: Доля экспериментов, в которых H_0 была отвергнута (Манна-Уитни): 0.037\n"
     ]
    }
   ],
   "source": [
    "stat, p_value = scipy.stats.kstest(pvalues_week1, scipy.stats.uniform(loc=0.0, scale=1.0).cdf)\n",
    "if p_value < 0.05:\n",
    "    print(f'p_value = {p_value} - p_values неравномерное распределение')\n",
    "else:\n",
    "    print(f'p_value = {p_value} - p_values равномерное распределение')\n",
    "\n",
    "x = np.array(pvalues_week1)\n",
    "print(\"week1: Доля экспериментов, в которых H_0 была отвергнута (Манна-Уитни):\", x[x < 0.05].shape[0] / x.shape[0])"
   ]
  },
  {
   "cell_type": "markdown",
   "metadata": {},
   "source": [
    "- **Манна-Уитни** для ```week2```:"
   ]
  },
  {
   "cell_type": "code",
   "execution_count": 325,
   "metadata": {},
   "outputs": [
    {
     "name": "stdout",
     "output_type": "stream",
     "text": [
      "CPU times: total: 2min 2s\n",
      "Wall time: 2min 38s\n"
     ]
    },
    {
     "data": {
      "image/png": "[encoded data removed]",
      "text/plain": [
       "<Figure size 400x300 with 1 Axes>"
      ]
     },
     "metadata": {},
     "output_type": "display_data"
    }
   ],
   "source": [
    "%%time\n",
    "criterion=stats.mannwhitneyu\n",
    "\n",
    "pvalues_week2 = Parallel(n_jobs=-1)(delayed(calc_pvalue)(week2, metric_column, criterion) for _ in range(1000))\n",
    "plt.hist(pvalues_week2, bins=20, color='purple');"
   ]
  },
  {
   "cell_type": "code",
   "execution_count": 326,
   "metadata": {},
   "outputs": [
    {
     "name": "stdout",
     "output_type": "stream",
     "text": [
      "p_value = 0.008588550701006427 - p_values неравномерное распределение\n",
      "week2: Доля экспериментов, в которых H_0 была отвергнута (Манна-Уитни): 0.053\n"
     ]
    }
   ],
   "source": [
    "stat, p_value = scipy.stats.kstest(pvalues_week2, scipy.stats.uniform(loc=0.0, scale=1.0).cdf)\n",
    "if p_value < 0.05:\n",
    "    print(f'p_value = {p_value} - p_values неравномерное распределение')\n",
    "else:\n",
    "    print(f'p_value = {p_value} - p_values равномерное распределение')\n",
    "\n",
    "x = np.array(pvalues_week2)\n",
    "print(\"week2: Доля экспериментов, в которых H_0 была отвергнута (Манна-Уитни):\", x[x < 0.05].shape[0] / x.shape[0])"
   ]
  },
  {
   "cell_type": "markdown",
   "metadata": {},
   "source": [
    "- **t-test** для ```week1```:"
   ]
  },
  {
   "cell_type": "code",
   "execution_count": 327,
   "metadata": {},
   "outputs": [
    {
     "name": "stdout",
     "output_type": "stream",
     "text": [
      "CPU times: total: 1min 21s\n",
      "Wall time: 1min 40s\n"
     ]
    },
    {
     "data": {
      "image/png": "[encoded data removed]",
      "text/plain": [
       "<Figure size 400x300 with 1 Axes>"
      ]
     },
     "metadata": {},
     "output_type": "display_data"
    }
   ],
   "source": [
    "%%time\n",
    "criterion=stats.ttest_ind\n",
    "\n",
    "pvalues_week1_ttest = Parallel(n_jobs=-1)(delayed(calc_pvalue)(week1, metric_column, criterion) for _ in range(1000))\n",
    "plt.hist(pvalues_week1_ttest, bins=20, color='purple');"
   ]
  },
  {
   "cell_type": "code",
   "execution_count": 328,
   "metadata": {},
   "outputs": [
    {
     "name": "stdout",
     "output_type": "stream",
     "text": [
      "p_value = 0.07223131279339201 - p_values равномерное распределение\n",
      "week1: Доля экспериментов, в которых H_0 была отвергнута (t-test): 0.042\n"
     ]
    }
   ],
   "source": [
    "stat, p_value = scipy.stats.kstest(pvalues_week1_ttest, scipy.stats.uniform(loc=0.0, scale=1.0).cdf)\n",
    "if p_value < 0.05:\n",
    "    print(f'p_value = {p_value} - p_values неравномерное распределение')\n",
    "else:\n",
    "    print(f'p_value = {p_value} - p_values равномерное распределение')\n",
    "\n",
    "x = np.array(pvalues_week1_ttest)\n",
    "print(\"week1: Доля экспериментов, в которых H_0 была отвергнута (t-test):\", x[x < 0.05].shape[0] / x.shape[0])"
   ]
  },
  {
   "cell_type": "markdown",
   "metadata": {},
   "source": [
    "- **t-test** для ```week2```:"
   ]
  },
  {
   "cell_type": "code",
   "execution_count": 329,
   "metadata": {},
   "outputs": [
    {
     "name": "stdout",
     "output_type": "stream",
     "text": [
      "CPU times: total: 1min 56s\n",
      "Wall time: 2min 26s\n"
     ]
    },
    {
     "data": {
      "image/png": "[encoded data removed]",
      "text/plain": [
       "<Figure size 400x300 with 1 Axes>"
      ]
     },
     "metadata": {},
     "output_type": "display_data"
    }
   ],
   "source": [
    "%%time\n",
    "criterion=stats.ttest_ind\n",
    "\n",
    "pvalues_week2_ttest = Parallel(n_jobs=-1)(delayed(calc_pvalue)(week2, metric_column, criterion) for _ in range(1000))\n",
    "plt.hist(pvalues_week2_ttest, bins=20, color='purple');"
   ]
  },
  {
   "cell_type": "code",
   "execution_count": 330,
   "metadata": {},
   "outputs": [
    {
     "name": "stdout",
     "output_type": "stream",
     "text": [
      "p_value = 0.45022923857113795 - p_values равномерное распределение\n",
      "week1: Доля экспериментов, в которых H_0 была отвергнута (t-test): 0.064\n"
     ]
    }
   ],
   "source": [
    "stat, p_value = scipy.stats.kstest(pvalues_week2_ttest, scipy.stats.uniform(loc=0.0, scale=1.0).cdf)\n",
    "if p_value < 0.05:\n",
    "    print(f'p_value = {p_value} - p_values неравномерное распределение')\n",
    "else:\n",
    "    print(f'p_value = {p_value} - p_values равномерное распределение')\n",
    "\n",
    "x = np.array(pvalues_week2_ttest)\n",
    "print(\"week1: Доля экспериментов, в которых H_0 была отвергнута (t-test):\", x[x < 0.05].shape[0] / x.shape[0])"
   ]
  },
  {
   "cell_type": "markdown",
   "metadata": {},
   "source": [
    "**Вывод**:\n",
    "\n",
    "- все распределения ```p_values``` равномерны\n",
    "- ошибка первого рода варьируется около 0.05 для t-test и Манна-Уитни в зависимости от разбиения"
   ]
  },
  {
   "cell_type": "markdown",
   "metadata": {
    "collapsed": false,
    "jupyter": {
     "outputs_hidden": false
    }
   },
   "source": [
    "## 3. Дизайн A/B на Бутстрапе"
   ]
  },
  {
   "cell_type": "markdown",
   "metadata": {
    "jp-MarkdownHeadingCollapsed": true
   },
   "source": [
    "#### Немного ускорил вычисления"
   ]
  },
  {
   "cell_type": "code",
   "execution_count": 14,
   "metadata": {
    "collapsed": false,
    "jupyter": {
     "outputs_hidden": false
    }
   },
   "outputs": [],
   "source": [
    "@njit(parallel=True)\n",
    "def calc_bootstrap_mean(arr: np.array, size = 1000) -> np.array:\n",
    "    samplings = np.empty(size, dtype=float32)\n",
    "    for i in range(size):\n",
    "        sampling = np.random.choice(arr, size=arr.size, replace=True)\n",
    "        mean = np.mean(sampling)\n",
    "        samplings[i] = mean\n",
    "    return samplings\n",
    "\n",
    "\n",
    "def bootstrap_correctness(week: pd.DataFrame, metric_column: str, alpha=0.05) -> (np.array, bool):\n",
    "    new_df = groups_splitter(week, columns=['user_id', metric_column, 'group'])\n",
    "\n",
    "    vec_a = new_df[(new_df['group'] == 'A')][metric_column]\n",
    "    vec_b = new_df[(new_df['group'] == 'B')][metric_column]\n",
    "\n",
    "    sample_a_mean = calc_bootstrap_mean(vec_a.to_numpy(), size=1000)\n",
    "    sample_b_mean = calc_bootstrap_mean(vec_b.to_numpy(), size=1000)\n",
    "    diff_mean = sample_a_mean - sample_b_mean\n",
    "\n",
    "    # Compute the confidence interval (e.g., 95% CI)\n",
    "    left_side, right_side = np.percentile(diff_mean, [100 * alpha / 2., 100 * (1 - alpha / 2.)])\n",
    "    # Reject equality of means when it's true\n",
    "    is_this_first_type_error = not left_side <= 0 <= right_side\n",
    "    \n",
    "    return diff_mean, is_this_first_type_error"
   ]
  },
  {
   "cell_type": "code",
   "execution_count": 15,
   "metadata": {},
   "outputs": [],
   "source": [
    "def generate_tweedie(mu, shape, p=1.4, phi=25):\n",
    "    tw = tweedie_gen()\n",
    "    return tw(p=p, mu=mu, phi=phi).rvs(shape)\n",
    "\n",
    "\n",
    "def bootstrap_power(week: pd.DataFrame, metric_col: str, effect: float, alpha=0.05) -> (np.array, bool):\n",
    "    new_df = groups_splitter(week, columns=['user_id', metric_col, 'group'])\n",
    "\n",
    "    vec_a = new_df[(new_df['group'] == 'A')][metric_col]\n",
    "    vec_b = new_df[(new_df['group'] == 'B')][metric_col]\n",
    "\n",
    "    # Effect\n",
    "    tw_values = generate_tweedie(effect * vec_b.mean(), vec_b.size)\n",
    "    if metric_col == \"total_dur_ln\":\n",
    "        tw_values[tw_values > 0] = np.log(tw_values[tw_values > 0])\n",
    "    vec_b += tw_values\n",
    "\n",
    "    sample_a_mean = calc_bootstrap_mean(vec_a.to_numpy(), size=1000)\n",
    "    sample_b_mean = calc_bootstrap_mean(vec_b.to_numpy(), size=1000)\n",
    "    diff_mean = sample_a_mean - sample_b_mean\n",
    "\n",
    "    # Compute the confidence interval (e.g., 95% CI)\n",
    "    left_side, right_side = np.percentile(diff_mean, [100 * alpha / 2., 100 * (1 - alpha / 2.)])\n",
    "    # Do not reject the equality of means when it's necessary to reject\n",
    "    is_this_second_type_error = left_side <= 0 <= right_side\n",
    "\n",
    "    return is_this_second_type_error"
   ]
  },
  {
   "cell_type": "code",
   "execution_count": 16,
   "metadata": {},
   "outputs": [],
   "source": [
    "def get_p_value(dist):\n",
    "    dist = np.array(dist)\n",
    "    x = (dist > 0).mean()\n",
    "    pvalue = min(x, 1 - x) * 2\n",
    "    return pvalue"
   ]
  },
  {
   "cell_type": "code",
   "execution_count": 17,
   "metadata": {},
   "outputs": [],
   "source": [
    "N = 1000\n",
    "alpha_results = []\n",
    "beta_results = []"
   ]
  },
  {
   "cell_type": "markdown",
   "metadata": {
    "collapsed": false,
    "jp-MarkdownHeadingCollapsed": true,
    "jupyter": {
     "outputs_hidden": false
    }
   },
   "source": [
    "### 3.1. Корректность"
   ]
  },
  {
   "cell_type": "markdown",
   "metadata": {
    "jp-MarkdownHeadingCollapsed": true
   },
   "source": [
    "#### АА тест"
   ]
  },
  {
   "cell_type": "code",
   "execution_count": 19,
   "metadata": {},
   "outputs": [],
   "source": [
    "def test_correctness(week, metric_column):\n",
    "    result = Parallel(n_jobs=-1)(delayed(bootstrap_correctness)(week, metric_column) for _ in range(N))\n",
    "    \n",
    "    p_values = [get_p_value(x[0]) for x in result]\n",
    "    \n",
    "    first_type_errors = [x[1] for x in result]\n",
    "    alpha = sum(first_type_errors) / len(first_type_errors)\n",
    "    \n",
    "    print(f\"I type error: {alpha:.2f}\")\n",
    "    \n",
    "    stat, p_value = scipy.stats.kstest(p_values, scipy.stats.uniform(loc=0.0, scale=1.0).cdf)\n",
    "    if p_value < 0.05:\n",
    "        print(f'p_value = {p_value} - p_values неравномерное распределение')\n",
    "    else:\n",
    "        print(f'p_value = {p_value} - p_values равномерное распределение')\n",
    "    return p_values, alpha"
   ]
  },
  {
   "cell_type": "markdown",
   "metadata": {
    "jp-MarkdownHeadingCollapsed": true
   },
   "source": [
    "#### 1. ```week1```"
   ]
  },
  {
   "cell_type": "code",
   "execution_count": 20,
   "metadata": {},
   "outputs": [
    {
     "name": "stdout",
     "output_type": "stream",
     "text": [
      "I type error: 0.05\n",
      "p_value = 0.040396397741065626 - p_values неравномерное распределение\n",
      "CPU times: total: 1min 42s\n",
      "Wall time: 8min 4s\n"
     ]
    }
   ],
   "source": [
    "%%time\n",
    "\n",
    "metric_column=\"total_dur\"\n",
    "\n",
    "p_values, alpha = test_correctness(week1, metric_column)\n",
    "alpha_results.append({\"week\": \"week1\", \"metric_column\": metric_column, \"alpha\": alpha})"
   ]
  },
  {
   "cell_type": "code",
   "execution_count": 21,
   "metadata": {
    "collapsed": false,
    "jupyter": {
     "outputs_hidden": false
    }
   },
   "outputs": [
    {
     "data": {
      "image/png": "[encoded data removed]",
      "text/plain": [
       "<Figure size 400x300 with 1 Axes>"
      ]
     },
     "metadata": {},
     "output_type": "display_data"
    }
   ],
   "source": [
    "plt.rcParams[\"figure.figsize\"] = (4,3)\n",
    "plt.hist(p_values, bins=10, color='purple')\n",
    "plt.title(f\"Бутстреп распределение p_value\");"
   ]
  },
  {
   "cell_type": "code",
   "execution_count": 22,
   "metadata": {},
   "outputs": [
    {
     "name": "stdout",
     "output_type": "stream",
     "text": [
      "I type error: 0.05\n",
      "p_value = 0.8108971656895569 - p_values равномерное распределение\n",
      "CPU times: total: 1min 58s\n",
      "Wall time: 8min 48s\n"
     ]
    }
   ],
   "source": [
    "%%time\n",
    "\n",
    "metric_column=\"total_dur_ln\"\n",
    "\n",
    "p_values, alpha = test_correctness(week1, metric_column)\n",
    "alpha_results.append({\"week\": \"week1\", \"metric_column\": metric_column, \"alpha\": alpha})"
   ]
  },
  {
   "cell_type": "code",
   "execution_count": 23,
   "metadata": {
    "collapsed": false,
    "jupyter": {
     "outputs_hidden": false
    }
   },
   "outputs": [
    {
     "data": {
      "image/png": "[encoded data removed]",
      "text/plain": [
       "<Figure size 400x300 with 1 Axes>"
      ]
     },
     "metadata": {},
     "output_type": "display_data"
    }
   ],
   "source": [
    "plt.rcParams[\"figure.figsize\"] = (4,3)\n",
    "plt.hist(p_values, bins=10, color='purple')\n",
    "plt.title(f\"Бутстреп распределение p_value\");"
   ]
  },
  {
   "cell_type": "markdown",
   "metadata": {
    "jp-MarkdownHeadingCollapsed": true
   },
   "source": [
    "#### 2. ```week2```"
   ]
  },
  {
   "cell_type": "code",
   "execution_count": 24,
   "metadata": {},
   "outputs": [
    {
     "name": "stdout",
     "output_type": "stream",
     "text": [
      "I type error: 0.05\n",
      "p_value = 0.45169720730901186 - p_values равномерное распределение\n",
      "CPU times: total: 2min 18s\n",
      "Wall time: 14min 28s\n"
     ]
    }
   ],
   "source": [
    "%%time\n",
    "\n",
    "metric_column=\"total_dur\"\n",
    "\n",
    "p_values, alpha = test_correctness(week2, metric_column)\n",
    "alpha_results.append({\"week\": \"week2\", \"metric_column\": metric_column, \"alpha\": alpha})"
   ]
  },
  {
   "cell_type": "code",
   "execution_count": 25,
   "metadata": {
    "collapsed": false,
    "jupyter": {
     "outputs_hidden": false
    }
   },
   "outputs": [
    {
     "data": {
      "image/png": "[encoded data removed]",
      "text/plain": [
       "<Figure size 400x300 with 1 Axes>"
      ]
     },
     "metadata": {},
     "output_type": "display_data"
    }
   ],
   "source": [
    "plt.rcParams[\"figure.figsize\"] = (4,3)\n",
    "plt.hist(p_values, bins=10, color='purple')\n",
    "plt.title(f\"Бутстреп распределение p_value\");"
   ]
  },
  {
   "cell_type": "code",
   "execution_count": 26,
   "metadata": {},
   "outputs": [
    {
     "name": "stdout",
     "output_type": "stream",
     "text": [
      "I type error: 0.04\n",
      "p_value = 0.7097553870118938 - p_values равномерное распределение\n",
      "CPU times: total: 3min 12s\n",
      "Wall time: 17min 2s\n"
     ]
    }
   ],
   "source": [
    "%%time\n",
    "\n",
    "metric_column=\"total_dur_ln\"\n",
    "\n",
    "p_values, alpha = test_correctness(week2, metric_column)\n",
    "alpha_results.append({\"week\": \"week2\", \"metric_column\": metric_column, \"alpha\": alpha})"
   ]
  },
  {
   "cell_type": "code",
   "execution_count": 27,
   "metadata": {
    "collapsed": false,
    "jupyter": {
     "outputs_hidden": false
    }
   },
   "outputs": [
    {
     "data": {
      "image/png": "[encoded data removed]",
      "text/plain": [
       "<Figure size 400x300 with 1 Axes>"
      ]
     },
     "metadata": {},
     "output_type": "display_data"
    }
   ],
   "source": [
    "plt.rcParams[\"figure.figsize\"] = (4,3)\n",
    "plt.hist(p_values, bins=10, color='purple')\n",
    "plt.title(f\"Бутстреп распределение p_value\");"
   ]
  },
  {
   "cell_type": "markdown",
   "metadata": {},
   "source": [
    "#### Результаты Корректности:"
   ]
  },
  {
   "cell_type": "code",
   "execution_count": 28,
   "metadata": {},
   "outputs": [
    {
     "data": {
      "text/html": [
       "<div>\n",
       "<style scoped>\n",
       "    .dataframe tbody tr th:only-of-type {\n",
       "        vertical-align: middle;\n",
       "    }\n",
       "\n",
       "    .dataframe tbody tr th {\n",
       "        vertical-align: top;\n",
       "    }\n",
       "\n",
       "    .dataframe thead th {\n",
       "        text-align: right;\n",
       "    }\n",
       "</style>\n",
       "<table border=\"1\" class=\"dataframe\">\n",
       "  <thead>\n",
       "    <tr style=\"text-align: right;\">\n",
       "      <th></th>\n",
       "      <th></th>\n",
       "      <th>alpha</th>\n",
       "    </tr>\n",
       "    <tr>\n",
       "      <th>week</th>\n",
       "      <th>metric_column</th>\n",
       "      <th></th>\n",
       "    </tr>\n",
       "  </thead>\n",
       "  <tbody>\n",
       "    <tr>\n",
       "      <th rowspan=\"2\" valign=\"top\">week1</th>\n",
       "      <th>total_dur</th>\n",
       "      <td>0.052</td>\n",
       "    </tr>\n",
       "    <tr>\n",
       "      <th>total_dur_ln</th>\n",
       "      <td>0.048</td>\n",
       "    </tr>\n",
       "    <tr>\n",
       "      <th rowspan=\"2\" valign=\"top\">week2</th>\n",
       "      <th>total_dur</th>\n",
       "      <td>0.048</td>\n",
       "    </tr>\n",
       "    <tr>\n",
       "      <th>total_dur_ln</th>\n",
       "      <td>0.044</td>\n",
       "    </tr>\n",
       "  </tbody>\n",
       "</table>\n",
       "</div>"
      ],
      "text/plain": [
       "                     alpha\n",
       "week  metric_column       \n",
       "week1 total_dur      0.052\n",
       "      total_dur_ln   0.048\n",
       "week2 total_dur      0.048\n",
       "      total_dur_ln   0.044"
      ]
     },
     "execution_count": 28,
     "metadata": {},
     "output_type": "execute_result"
    }
   ],
   "source": [
    "pd.DataFrame(alpha_results).set_index([\"week\", \"metric_column\"])"
   ]
  },
  {
   "cell_type": "markdown",
   "metadata": {
    "jp-MarkdownHeadingCollapsed": true
   },
   "source": [
    "### 3.2. Мощность"
   ]
  },
  {
   "cell_type": "markdown",
   "metadata": {
    "jp-MarkdownHeadingCollapsed": true
   },
   "source": [
    "#### Буду добавлять эффект с помощью Tweedie распеределения. Так это выглядит:"
   ]
  },
  {
   "cell_type": "code",
   "execution_count": 104,
   "metadata": {},
   "outputs": [
    {
     "data": {
      "image/png": "[encoded data removed]",
      "text/plain": [
       "<Figure size 800x300 with 2 Axes>"
      ]
     },
     "metadata": {},
     "output_type": "display_data"
    }
   ],
   "source": [
    "fig, axs = plt.subplots(ncols=2, figsize=(8,3))\n",
    "\n",
    "effect = 0.03\n",
    "tw = generate_tweedie(effect * week1.total_dur.mean(), week1.total_dur.size)\n",
    "\n",
    "axs[0].hist(tw, bins=100, color='purple', alpha=0.7, label='TW')\n",
    "axs[0].hist(week1.total_dur, bins=200, color='orange', alpha=0.7, label='Week1')\n",
    "axs[0].legend()\n",
    "axs[0].set_title('total_dur')\n",
    "axs[0].axis(ymax=30000, xmax=30000)\n",
    "\n",
    "tw = generate_tweedie(effect * week1.total_dur_ln.mean(), week1.total_dur_ln.size)\n",
    "tw[tw > 0] = np.log(tw[tw > 0])\n",
    "\n",
    "axs[1].hist(tw, bins=100, color='purple', alpha=0.7, label='TW')\n",
    "axs[1].hist(week1.total_dur_ln, bins=100, color='orange', alpha=0.7, label='Week1')\n",
    "axs[1].legend()\n",
    "axs[1].set_title('total_dur_ln')\n",
    "axs[1].axis(ymax=7000)\n",
    "\n",
    "plt.tight_layout()\n",
    "plt.show()"
   ]
  },
  {
   "cell_type": "code",
   "execution_count": 29,
   "metadata": {},
   "outputs": [],
   "source": [
    "def test_power(week, metric_column, effect):\n",
    "    second_type_errors = Parallel(n_jobs=-1)(delayed(bootstrap_power)(week, metric_column, effect) for _ in range(N))\n",
    "\n",
    "    beta = sum(second_type_errors) / len(second_type_errors)    \n",
    "    print(f\"II type error: {beta:.2f}\")\n",
    "    \n",
    "    return beta"
   ]
  },
  {
   "cell_type": "markdown",
   "metadata": {
    "jp-MarkdownHeadingCollapsed": true
   },
   "source": [
    "#### 1. ```week1```"
   ]
  },
  {
   "cell_type": "markdown",
   "metadata": {},
   "source": [
    "- Эффект 1%:"
   ]
  },
  {
   "cell_type": "code",
   "execution_count": 30,
   "metadata": {},
   "outputs": [
    {
     "name": "stdout",
     "output_type": "stream",
     "text": [
      "II type error: 0.78\n",
      "CPU times: total: 1min 39s\n",
      "Wall time: 7min 51s\n"
     ]
    }
   ],
   "source": [
    "%%time\n",
    "\n",
    "effect = 0.01\n",
    "metric_column=\"total_dur\"\n",
    "\n",
    "beta = test_power(week1, metric_column, effect)\n",
    "beta_results.append({\"week\": \"week1\", \"metric_column\": metric_column, \"effect\": f\"{effect*100}%\", \"beta\": beta})"
   ]
  },
  {
   "cell_type": "code",
   "execution_count": 31,
   "metadata": {},
   "outputs": [
    {
     "name": "stdout",
     "output_type": "stream",
     "text": [
      "II type error: 0.56\n",
      "CPU times: total: 1min 49s\n",
      "Wall time: 8min 4s\n"
     ]
    }
   ],
   "source": [
    "%%time\n",
    "\n",
    "effect = 0.01\n",
    "metric_column=\"total_dur_ln\"\n",
    "\n",
    "beta = test_power(week1, metric_column, effect)\n",
    "beta_results.append({\"week\": \"week1\", \"metric_column\": metric_column, \"effect\": f\"{effect*100}%\", \"beta\": beta})"
   ]
  },
  {
   "cell_type": "markdown",
   "metadata": {},
   "source": [
    "- Эффект 3%:"
   ]
  },
  {
   "cell_type": "code",
   "execution_count": 32,
   "metadata": {},
   "outputs": [
    {
     "name": "stdout",
     "output_type": "stream",
     "text": [
      "II type error: 0.05\n",
      "CPU times: total: 1min 40s\n",
      "Wall time: 7min 51s\n"
     ]
    }
   ],
   "source": [
    "%%time\n",
    "\n",
    "effect = 0.03\n",
    "metric_column=\"total_dur\"\n",
    "\n",
    "beta = test_power(week1, metric_column, effect)\n",
    "beta_results.append({\"week\": \"week1\", \"metric_column\": metric_column, \"effect\": f\"{effect*100}%\", \"beta\": beta})"
   ]
  },
  {
   "cell_type": "code",
   "execution_count": 33,
   "metadata": {},
   "outputs": [
    {
     "name": "stdout",
     "output_type": "stream",
     "text": [
      "II type error: 0.01\n",
      "CPU times: total: 1min 49s\n",
      "Wall time: 8min 2s\n"
     ]
    }
   ],
   "source": [
    "%%time\n",
    "\n",
    "effect = 0.03\n",
    "metric_column=\"total_dur_ln\"\n",
    "\n",
    "beta = test_power(week1, metric_column, effect)\n",
    "beta_results.append({\"week\": \"week1\", \"metric_column\": metric_column, \"effect\": f\"{effect*100}%\", \"beta\": beta})"
   ]
  },
  {
   "cell_type": "markdown",
   "metadata": {},
   "source": [
    "- Эффект 5%:"
   ]
  },
  {
   "cell_type": "code",
   "execution_count": 34,
   "metadata": {},
   "outputs": [
    {
     "name": "stdout",
     "output_type": "stream",
     "text": [
      "II type error: 0.00\n",
      "CPU times: total: 1min 39s\n",
      "Wall time: 7min 48s\n"
     ]
    }
   ],
   "source": [
    "%%time\n",
    "\n",
    "effect = 0.05\n",
    "metric_column=\"total_dur\"\n",
    "\n",
    "beta = test_power(week1, metric_column, effect)\n",
    "beta_results.append({\"week\": \"week1\", \"metric_column\": metric_column, \"effect\": f\"{effect*100}%\", \"beta\": beta})"
   ]
  },
  {
   "cell_type": "code",
   "execution_count": 35,
   "metadata": {},
   "outputs": [
    {
     "name": "stdout",
     "output_type": "stream",
     "text": [
      "II type error: 0.00\n",
      "CPU times: total: 1min 50s\n",
      "Wall time: 8min 1s\n"
     ]
    }
   ],
   "source": [
    "%%time\n",
    "\n",
    "effect = 0.05\n",
    "metric_column=\"total_dur_ln\"\n",
    "\n",
    "beta = test_power(week1, metric_column, effect)\n",
    "beta_results.append({\"week\": \"week1\", \"metric_column\": metric_column, \"effect\": f\"{effect*100}%\", \"beta\": beta})"
   ]
  },
  {
   "cell_type": "markdown",
   "metadata": {
    "jp-MarkdownHeadingCollapsed": true
   },
   "source": [
    "#### 2. ```week2```"
   ]
  },
  {
   "cell_type": "markdown",
   "metadata": {},
   "source": [
    "- Эффект 1%:"
   ]
  },
  {
   "cell_type": "code",
   "execution_count": 36,
   "metadata": {},
   "outputs": [
    {
     "name": "stdout",
     "output_type": "stream",
     "text": [
      "II type error: 0.68\n",
      "CPU times: total: 2min 38s\n",
      "Wall time: 14min 51s\n"
     ]
    }
   ],
   "source": [
    "%%time\n",
    "\n",
    "effect = 0.01\n",
    "metric_column=\"total_dur\"\n",
    "\n",
    "beta = test_power(week2, metric_column, effect)\n",
    "beta_results.append({\"week\": \"week2\", \"metric_column\": metric_column, \"effect\": f\"{effect*100}%\", \"beta\": beta})"
   ]
  },
  {
   "cell_type": "code",
   "execution_count": 37,
   "metadata": {},
   "outputs": [
    {
     "name": "stdout",
     "output_type": "stream",
     "text": [
      "II type error: 0.47\n",
      "CPU times: total: 3min 3s\n",
      "Wall time: 16min 43s\n"
     ]
    }
   ],
   "source": [
    "%%time\n",
    "\n",
    "effect = 0.01\n",
    "metric_column=\"total_dur_ln\"\n",
    "\n",
    "beta = test_power(week2, metric_column, effect)\n",
    "beta_results.append({\"week\": \"week2\", \"metric_column\": metric_column, \"effect\": f\"{effect*100}%\", \"beta\": beta})"
   ]
  },
  {
   "cell_type": "markdown",
   "metadata": {},
   "source": [
    "- Эффект 3%:"
   ]
  },
  {
   "cell_type": "code",
   "execution_count": 38,
   "metadata": {},
   "outputs": [
    {
     "name": "stdout",
     "output_type": "stream",
     "text": [
      "II type error: 0.01\n",
      "CPU times: total: 2min 37s\n",
      "Wall time: 15min 3s\n"
     ]
    }
   ],
   "source": [
    "%%time\n",
    "\n",
    "effect = 0.03\n",
    "metric_column=\"total_dur\"\n",
    "\n",
    "beta = test_power(week2, metric_column, effect)\n",
    "beta_results.append({\"week\": \"week2\", \"metric_column\": metric_column, \"effect\": f\"{effect*100}%\", \"beta\": beta})"
   ]
  },
  {
   "cell_type": "code",
   "execution_count": 39,
   "metadata": {},
   "outputs": [
    {
     "name": "stdout",
     "output_type": "stream",
     "text": [
      "II type error: 0.00\n",
      "CPU times: total: 3min 2s\n",
      "Wall time: 16min 38s\n"
     ]
    }
   ],
   "source": [
    "%%time\n",
    "\n",
    "effect = 0.03\n",
    "metric_column=\"total_dur_ln\"\n",
    "\n",
    "beta = test_power(week2, metric_column, effect)\n",
    "beta_results.append({\"week\": \"week2\", \"metric_column\": metric_column, \"effect\": f\"{effect*100}%\", \"beta\": beta})"
   ]
  },
  {
   "cell_type": "markdown",
   "metadata": {},
   "source": [
    "- Эффект 5%:"
   ]
  },
  {
   "cell_type": "code",
   "execution_count": 40,
   "metadata": {},
   "outputs": [
    {
     "name": "stdout",
     "output_type": "stream",
     "text": [
      "II type error: 0.00\n",
      "CPU times: total: 2min 37s\n",
      "Wall time: 15min 1s\n"
     ]
    }
   ],
   "source": [
    "%%time\n",
    "\n",
    "effect = 0.05\n",
    "metric_column=\"total_dur\"\n",
    "\n",
    "beta = test_power(week2, metric_column, effect)\n",
    "beta_results.append({\"week\": \"week2\", \"metric_column\": metric_column, \"effect\": f\"{effect*100}%\", \"beta\": beta})"
   ]
  },
  {
   "cell_type": "code",
   "execution_count": 41,
   "metadata": {},
   "outputs": [
    {
     "name": "stdout",
     "output_type": "stream",
     "text": [
      "II type error: 0.00\n",
      "CPU times: total: 3min 3s\n",
      "Wall time: 16min 37s\n"
     ]
    }
   ],
   "source": [
    "%%time\n",
    "\n",
    "effect = 0.05\n",
    "metric_column=\"total_dur_ln\"\n",
    "\n",
    "beta = test_power(week2, metric_column, effect)\n",
    "beta_results.append({\"week\": \"week2\", \"metric_column\": metric_column, \"effect\": f\"{effect*100}%\", \"beta\": beta})"
   ]
  },
  {
   "cell_type": "markdown",
   "metadata": {},
   "source": [
    "#### Результаты Мощности:"
   ]
  },
  {
   "cell_type": "code",
   "execution_count": 42,
   "metadata": {},
   "outputs": [
    {
     "data": {
      "text/html": [
       "<div>\n",
       "<style scoped>\n",
       "    .dataframe tbody tr th:only-of-type {\n",
       "        vertical-align: middle;\n",
       "    }\n",
       "\n",
       "    .dataframe tbody tr th {\n",
       "        vertical-align: top;\n",
       "    }\n",
       "\n",
       "    .dataframe thead th {\n",
       "        text-align: right;\n",
       "    }\n",
       "</style>\n",
       "<table border=\"1\" class=\"dataframe\">\n",
       "  <thead>\n",
       "    <tr style=\"text-align: right;\">\n",
       "      <th></th>\n",
       "      <th></th>\n",
       "      <th></th>\n",
       "      <th>beta</th>\n",
       "    </tr>\n",
       "    <tr>\n",
       "      <th>week</th>\n",
       "      <th>metric_column</th>\n",
       "      <th>effect</th>\n",
       "      <th></th>\n",
       "    </tr>\n",
       "  </thead>\n",
       "  <tbody>\n",
       "    <tr>\n",
       "      <th rowspan=\"6\" valign=\"top\">week1</th>\n",
       "      <th rowspan=\"3\" valign=\"top\">total_dur</th>\n",
       "      <th>1.0%</th>\n",
       "      <td>0.784</td>\n",
       "    </tr>\n",
       "    <tr>\n",
       "      <th>3.0%</th>\n",
       "      <td>0.050</td>\n",
       "    </tr>\n",
       "    <tr>\n",
       "      <th>5.0%</th>\n",
       "      <td>0.000</td>\n",
       "    </tr>\n",
       "    <tr>\n",
       "      <th rowspan=\"3\" valign=\"top\">total_dur_ln</th>\n",
       "      <th>1.0%</th>\n",
       "      <td>0.563</td>\n",
       "    </tr>\n",
       "    <tr>\n",
       "      <th>3.0%</th>\n",
       "      <td>0.005</td>\n",
       "    </tr>\n",
       "    <tr>\n",
       "      <th>5.0%</th>\n",
       "      <td>0.000</td>\n",
       "    </tr>\n",
       "    <tr>\n",
       "      <th rowspan=\"6\" valign=\"top\">week2</th>\n",
       "      <th rowspan=\"3\" valign=\"top\">total_dur</th>\n",
       "      <th>1.0%</th>\n",
       "      <td>0.684</td>\n",
       "    </tr>\n",
       "    <tr>\n",
       "      <th>3.0%</th>\n",
       "      <td>0.009</td>\n",
       "    </tr>\n",
       "    <tr>\n",
       "      <th>5.0%</th>\n",
       "      <td>0.000</td>\n",
       "    </tr>\n",
       "    <tr>\n",
       "      <th rowspan=\"3\" valign=\"top\">total_dur_ln</th>\n",
       "      <th>1.0%</th>\n",
       "      <td>0.471</td>\n",
       "    </tr>\n",
       "    <tr>\n",
       "      <th>3.0%</th>\n",
       "      <td>0.000</td>\n",
       "    </tr>\n",
       "    <tr>\n",
       "      <th>5.0%</th>\n",
       "      <td>0.000</td>\n",
       "    </tr>\n",
       "  </tbody>\n",
       "</table>\n",
       "</div>"
      ],
      "text/plain": [
       "                             beta\n",
       "week  metric_column effect       \n",
       "week1 total_dur     1.0%    0.784\n",
       "                    3.0%    0.050\n",
       "                    5.0%    0.000\n",
       "      total_dur_ln  1.0%    0.563\n",
       "                    3.0%    0.005\n",
       "                    5.0%    0.000\n",
       "week2 total_dur     1.0%    0.684\n",
       "                    3.0%    0.009\n",
       "                    5.0%    0.000\n",
       "      total_dur_ln  1.0%    0.471\n",
       "                    3.0%    0.000\n",
       "                    5.0%    0.000"
      ]
     },
     "execution_count": 42,
     "metadata": {},
     "output_type": "execute_result"
    }
   ],
   "source": [
    "pd.DataFrame(beta_results).set_index([\"week\", \"metric_column\", \"effect\"]).sort_values([\"week\", \"metric_column\"])"
   ]
  },
  {
   "cell_type": "markdown",
   "metadata": {},
   "source": [
    "- Эффект в 1% плохо детектируется\n",
    "- Эффект в 3% детектируется в более чем 95% случаев\n",
    "- Эффект в 5% детектируется в более чем 99% случаев\n",
    "\n",
    "Стоит учесть что здесь я добавлял Tweedie эффект, а не увеличивал просмотры топ-10% пользователей, как в итоговом A/B тесте из домашнего задания.\n",
    "Поэтому разные эффекты могут давать разные $\\alpha$ и $\\beta$"
   ]
  },
  {
   "cell_type": "markdown",
   "metadata": {
    "jp-MarkdownHeadingCollapsed": true
   },
   "source": [
    "### 3.3. Оценка MDE по найденным $\\alpha$ и $\\beta$"
   ]
  },
  {
   "cell_type": "markdown",
   "metadata": {
    "collapsed": false,
    "jupyter": {
     "outputs_hidden": false
    }
   },
   "source": [
    "$$ MDE = \\frac{(z_{1 - \\frac{\\alpha}{2}} + z_{1 - \\beta}) * \\sqrt{\\sigma_{control}^2 + \\sigma_{experiment}^2}}{\\sqrt{N}} $$"
   ]
  },
  {
   "cell_type": "code",
   "execution_count": 43,
   "metadata": {
    "collapsed": false,
    "jupyter": {
     "outputs_hidden": false
    }
   },
   "outputs": [],
   "source": [
    "from scipy.stats import norm\n",
    "\n",
    "\n",
    "def get_mde(metric_vec, alpha=0.05, beta=0.2):\n",
    "\n",
    "    metric_mean, metric_std, metric_n = metric_vec.mean(), metric_vec.std(), metric_vec.count()\n",
    "\n",
    "    z_alpha = norm.ppf(1 - (alpha / 2), loc=0, scale=1)\n",
    "    z_beta = norm.ppf(1 - beta, loc=0, scale=1)\n",
    "\n",
    "    mde = (z_alpha + z_beta)*metric_std / np.sqrt(metric_n)\n",
    "    \n",
    "    return mde*100/metric_mean"
   ]
  },
  {
   "cell_type": "code",
   "execution_count": 44,
   "metadata": {},
   "outputs": [],
   "source": [
    "first_type_errors = [0.05, 0.1]\n",
    "second_type_errors = [0.5, 0.2, 0.1, 0.05, 0.01]"
   ]
  },
  {
   "cell_type": "markdown",
   "metadata": {},
   "source": [
    "```week1``` "
   ]
  },
  {
   "cell_type": "code",
   "execution_count": 45,
   "metadata": {},
   "outputs": [
    {
     "data": {
      "text/html": [
       "<div>\n",
       "<style scoped>\n",
       "    .dataframe tbody tr th:only-of-type {\n",
       "        vertical-align: middle;\n",
       "    }\n",
       "\n",
       "    .dataframe tbody tr th {\n",
       "        vertical-align: top;\n",
       "    }\n",
       "\n",
       "    .dataframe thead th {\n",
       "        text-align: right;\n",
       "    }\n",
       "</style>\n",
       "<table border=\"1\" class=\"dataframe\">\n",
       "  <thead>\n",
       "    <tr style=\"text-align: right;\">\n",
       "      <th></th>\n",
       "      <th></th>\n",
       "      <th>0.5</th>\n",
       "      <th>0.2</th>\n",
       "      <th>0.1</th>\n",
       "      <th>0.05</th>\n",
       "      <th>0.01</th>\n",
       "    </tr>\n",
       "    <tr>\n",
       "      <th>metric</th>\n",
       "      <th>alpha</th>\n",
       "      <th></th>\n",
       "      <th></th>\n",
       "      <th></th>\n",
       "      <th></th>\n",
       "      <th></th>\n",
       "    </tr>\n",
       "  </thead>\n",
       "  <tbody>\n",
       "    <tr>\n",
       "      <th rowspan=\"2\" valign=\"top\">total_dur</th>\n",
       "      <th>0.05</th>\n",
       "      <td>0.8%</td>\n",
       "      <td>1.1%</td>\n",
       "      <td>1.3%</td>\n",
       "      <td>1.5%</td>\n",
       "      <td>1.7%</td>\n",
       "    </tr>\n",
       "    <tr>\n",
       "      <th>0.10</th>\n",
       "      <td>0.7%</td>\n",
       "      <td>1.0%</td>\n",
       "      <td>1.2%</td>\n",
       "      <td>1.3%</td>\n",
       "      <td>1.6%</td>\n",
       "    </tr>\n",
       "    <tr>\n",
       "      <th rowspan=\"2\" valign=\"top\">total_dur_ln</th>\n",
       "      <th>0.05</th>\n",
       "      <td>1.1%</td>\n",
       "      <td>1.2%</td>\n",
       "      <td>1.3%</td>\n",
       "      <td>1.3%</td>\n",
       "      <td>1.3%</td>\n",
       "    </tr>\n",
       "    <tr>\n",
       "      <th>0.10</th>\n",
       "      <td>1.1%</td>\n",
       "      <td>1.2%</td>\n",
       "      <td>1.2%</td>\n",
       "      <td>1.3%</td>\n",
       "      <td>1.3%</td>\n",
       "    </tr>\n",
       "  </tbody>\n",
       "</table>\n",
       "</div>"
      ],
      "text/plain": [
       "                     0.5   0.2   0.1  0.05  0.01\n",
       "metric       alpha                              \n",
       "total_dur    0.05   0.8%  1.1%  1.3%  1.5%  1.7%\n",
       "             0.10   0.7%  1.0%  1.2%  1.3%  1.6%\n",
       "total_dur_ln 0.05   1.1%  1.2%  1.3%  1.3%  1.3%\n",
       "             0.10   1.1%  1.2%  1.2%  1.3%  1.3%"
      ]
     },
     "execution_count": 45,
     "metadata": {},
     "output_type": "execute_result"
    }
   ],
   "source": [
    "mde_week1 = []\n",
    "\n",
    "for a in first_type_errors:\n",
    "    mdes = {str(b): f\"{get_mde(week1.total_dur, alpha=a, beta=b):.1f}%\" for b in second_type_errors}\n",
    "    mdes[\"alpha\"] = a\n",
    "    mdes[\"metric\"] = \"total_dur\"\n",
    "    mde_week1.append(mdes)\n",
    "\n",
    "    mdes = {str(b): f\"{np.exp(get_mde(week1.total_dur_ln, alpha=a, beta=b)):.1f}%\" for b in second_type_errors}\n",
    "    mdes[\"alpha\"] = a\n",
    "    mdes[\"metric\"] = \"total_dur_ln\"\n",
    "    mde_week1.append(mdes)\n",
    "    \n",
    "pd.DataFrame(mde_week1).set_index([\"metric\", \"alpha\"]).sort_values([\"metric\"])"
   ]
  },
  {
   "cell_type": "markdown",
   "metadata": {},
   "source": [
    "```week2``` "
   ]
  },
  {
   "cell_type": "code",
   "execution_count": 46,
   "metadata": {},
   "outputs": [
    {
     "data": {
      "text/html": [
       "<div>\n",
       "<style scoped>\n",
       "    .dataframe tbody tr th:only-of-type {\n",
       "        vertical-align: middle;\n",
       "    }\n",
       "\n",
       "    .dataframe tbody tr th {\n",
       "        vertical-align: top;\n",
       "    }\n",
       "\n",
       "    .dataframe thead th {\n",
       "        text-align: right;\n",
       "    }\n",
       "</style>\n",
       "<table border=\"1\" class=\"dataframe\">\n",
       "  <thead>\n",
       "    <tr style=\"text-align: right;\">\n",
       "      <th></th>\n",
       "      <th></th>\n",
       "      <th>0.5</th>\n",
       "      <th>0.2</th>\n",
       "      <th>0.1</th>\n",
       "      <th>0.05</th>\n",
       "      <th>0.01</th>\n",
       "    </tr>\n",
       "    <tr>\n",
       "      <th>metric</th>\n",
       "      <th>alpha</th>\n",
       "      <th></th>\n",
       "      <th></th>\n",
       "      <th></th>\n",
       "      <th></th>\n",
       "      <th></th>\n",
       "    </tr>\n",
       "  </thead>\n",
       "  <tbody>\n",
       "    <tr>\n",
       "      <th rowspan=\"2\" valign=\"top\">total_dur</th>\n",
       "      <th>0.05</th>\n",
       "      <td>0.7%</td>\n",
       "      <td>0.9%</td>\n",
       "      <td>1.1%</td>\n",
       "      <td>1.2%</td>\n",
       "      <td>1.4%</td>\n",
       "    </tr>\n",
       "    <tr>\n",
       "      <th>0.10</th>\n",
       "      <td>0.5%</td>\n",
       "      <td>0.8%</td>\n",
       "      <td>1.0%</td>\n",
       "      <td>1.1%</td>\n",
       "      <td>1.3%</td>\n",
       "    </tr>\n",
       "    <tr>\n",
       "      <th rowspan=\"2\" valign=\"top\">total_dur_ln</th>\n",
       "      <th>0.05</th>\n",
       "      <td>1.1%</td>\n",
       "      <td>1.2%</td>\n",
       "      <td>1.2%</td>\n",
       "      <td>1.2%</td>\n",
       "      <td>1.3%</td>\n",
       "    </tr>\n",
       "    <tr>\n",
       "      <th>0.10</th>\n",
       "      <td>1.1%</td>\n",
       "      <td>1.2%</td>\n",
       "      <td>1.2%</td>\n",
       "      <td>1.2%</td>\n",
       "      <td>1.3%</td>\n",
       "    </tr>\n",
       "  </tbody>\n",
       "</table>\n",
       "</div>"
      ],
      "text/plain": [
       "                     0.5   0.2   0.1  0.05  0.01\n",
       "metric       alpha                              \n",
       "total_dur    0.05   0.7%  0.9%  1.1%  1.2%  1.4%\n",
       "             0.10   0.5%  0.8%  1.0%  1.1%  1.3%\n",
       "total_dur_ln 0.05   1.1%  1.2%  1.2%  1.2%  1.3%\n",
       "             0.10   1.1%  1.2%  1.2%  1.2%  1.3%"
      ]
     },
     "execution_count": 46,
     "metadata": {},
     "output_type": "execute_result"
    }
   ],
   "source": [
    "mde_week2 = []\n",
    "\n",
    "for a in first_type_errors:\n",
    "    mdes = {str(b): f\"{get_mde(week2.total_dur, alpha=a, beta=b):.1f}%\" for b in second_type_errors}\n",
    "    mdes[\"alpha\"] = a\n",
    "    mdes[\"metric\"] = \"total_dur\"\n",
    "    mde_week2.append(mdes)\n",
    "\n",
    "    mdes = {str(b): f\"{np.exp(get_mde(week2.total_dur_ln, alpha=a, beta=b)):.1f}%\" for b in second_type_errors}\n",
    "    mdes[\"alpha\"] = a\n",
    "    mdes[\"metric\"] = \"total_dur_ln\"\n",
    "    mde_week2.append(mdes)\n",
    "    \n",
    "pd.DataFrame(mde_week2).set_index([\"metric\", \"alpha\"]).sort_values([\"metric\"])"
   ]
  },
  {
   "cell_type": "markdown",
   "metadata": {},
   "source": [
    "**Вывод**:\n",
    "- на большей выборке можем детектировать меньший эффект ☝️\n",
    "- с уменьшением $\\alpha$ и $\\beta$ - увеличивается минимальный детектируемый эффект"
   ]
  },
  {
   "cell_type": "markdown",
   "metadata": {},
   "source": [
    "## 4. A/B тест\n",
    "\n",
    "Докину эффект 2.5% для топ-10 смотрящих пользователей. Перед этим зануляем просмотры меньше 500 (так избавляемся от шума?)"
   ]
  },
  {
   "cell_type": "code",
   "execution_count": 259,
   "metadata": {},
   "outputs": [],
   "source": [
    "week1_test = week1.copy()\n",
    "week2_test = week2.copy()"
   ]
  },
  {
   "cell_type": "code",
   "execution_count": 260,
   "metadata": {},
   "outputs": [
    {
     "data": {
      "image/png": "[encoded data removed]",
      "text/plain": [
       "<Figure size 800x300 with 2 Axes>"
      ]
     },
     "metadata": {},
     "output_type": "display_data"
    }
   ],
   "source": [
    "border = 500\n",
    "week1_test.loc[week1_test[\"total_dur\"] < border, \"total_dur\"] = 0\n",
    "week1_test.loc[week1_test[\"total_dur_ln\"] < np.log(border), \"total_dur_ln\"] = 0\n",
    "\n",
    "week2_test.loc[week2_test[\"total_dur\"] < border, \"total_dur\"] = 0\n",
    "week2_test.loc[week2_test[\"total_dur_ln\"] < np.log(border), \"total_dur_ln\"] = 0\n",
    "\n",
    "f, axs = plt.subplots(ncols=2, figsize=(8,3))\n",
    "sns.histplot(week2_test.total_dur, bins=1000, ax=axs[0])\n",
    "axs[0].axis(xmin=0, xmax=5000, ymax=10000)\n",
    "sns.histplot(week2_test.total_dur_ln, bins=500, ax=axs[1])\n",
    "axs[1].axis(ymax=2000);"
   ]
  },
  {
   "cell_type": "code",
   "execution_count": 358,
   "metadata": {},
   "outputs": [],
   "source": [
    "salt = \"kiontestmodel20210805\"\n",
    "effect = 1.025\n",
    "\n",
    "week1_groups = groups_splitter(week1_test, [\"user_id\", \"total_dur\", \"total_dur_ln\", \"group\"], user_salt=salt)\n",
    "week2_groups = groups_splitter(week2_test, [\"user_id\", \"total_dur\", \"total_dur_ln\", \"group\"], user_salt=salt)\n",
    "\n",
    "week1_groups = week1_groups.sort_values(\"total_dur\")\n",
    "week2_groups = week2_groups.sort_values(\"total_dur\")\n",
    "week1_groups.total_dur = week1_groups.total_dur.astype(float)\n",
    "week2_groups.total_dur = week2_groups.total_dur.astype(float)\n",
    "\n",
    "# week1 effect\n",
    "week1_groups.loc[week1_groups.index[int(len(week1_groups) * 0.9):], \"total_dur\"] *= effect\n",
    "week1_groups.loc[week1_groups.index[int(len(week1_groups) * 0.9):], \"total_dur_ln\"] += np.log(effect)\n",
    "\n",
    "# week2 effect\n",
    "week2_groups.loc[week2_groups.index[int(len(week2_groups) * 0.9):], \"total_dur\"] *= effect\n",
    "week2_groups.loc[week2_groups.index[int(len(week2_groups) * 0.9):], \"total_dur_ln\"] += np.log(effect)"
   ]
  },
  {
   "cell_type": "markdown",
   "metadata": {},
   "source": [
    "#### 1. ```week1```"
   ]
  },
  {
   "cell_type": "markdown",
   "metadata": {},
   "source": [
    "Обычная метрика ```total_dur```"
   ]
  },
  {
   "cell_type": "code",
   "execution_count": 359,
   "metadata": {},
   "outputs": [
    {
     "name": "stdout",
     "output_type": "stream",
     "text": [
      "(-580.8505859375, 4.474462890624936)\n",
      "H_0 отвергнута: False\n"
     ]
    }
   ],
   "source": [
    "metric_column = \"total_dur\"\n",
    "alpha = 0.05\n",
    "\n",
    "vec_a = week1_groups[(week1_groups['group'] == 'A')][metric_column]\n",
    "vec_b = week1_groups[(week1_groups['group'] == 'B')][metric_column]\n",
    "\n",
    "sample_a_mean = calc_bootstrap_mean(vec_a.to_numpy(), size=1000)\n",
    "sample_b_mean = calc_bootstrap_mean(vec_b.to_numpy(), size=1000)\n",
    "diff_mean = sample_a_mean - sample_b_mean\n",
    "\n",
    "left_side, right_side = np.percentile(diff_mean, [0, 100 * (1 - alpha)])\n",
    "print((left_side, right_side))\n",
    "print(\"H_0 отвергнута:\", not left_side < 0 < right_side)"
   ]
  },
  {
   "cell_type": "code",
   "execution_count": 360,
   "metadata": {},
   "outputs": [
    {
     "name": "stdout",
     "output_type": "stream",
     "text": [
      "pvalue =  0.11637389296923724\n",
      "H_0 отвергнута: False\n"
     ]
    }
   ],
   "source": [
    "metric_column = \"total_dur\"\n",
    "criterion = stats.ttest_ind\n",
    "\n",
    "p = criterion(week1_groups[week1_groups['group'] == 'A'][metric_column].values,\n",
    "              week1_groups[week1_groups['group'] == 'B'][metric_column].values).pvalue\n",
    "print(\"pvalue = \", p)\n",
    "print(\"H_0 отвергнута:\", p < 0.05)"
   ]
  },
  {
   "cell_type": "code",
   "execution_count": 361,
   "metadata": {},
   "outputs": [
    {
     "name": "stdout",
     "output_type": "stream",
     "text": [
      "pvalue =  0.008600358354265631\n",
      "H_0 отвергнута: True\n"
     ]
    }
   ],
   "source": [
    "metric_column = \"total_dur\"\n",
    "criterion = stats.mannwhitneyu\n",
    "\n",
    "p = criterion(week1_groups[week1_groups['group'] == 'A'][metric_column].values,\n",
    "              week1_groups[week1_groups['group'] == 'B'][metric_column].values).pvalue\n",
    "print(\"pvalue = \", p)\n",
    "print(\"H_0 отвергнута:\", p < 0.05)"
   ]
  },
  {
   "cell_type": "markdown",
   "metadata": {},
   "source": [
    "Логарифмированная метрика ```total_dur_ln```"
   ]
  },
  {
   "cell_type": "code",
   "execution_count": 362,
   "metadata": {
    "scrolled": true
   },
   "outputs": [
    {
     "name": "stdout",
     "output_type": "stream",
     "text": [
      "(-0.10604047775268555, -0.022415471076965333)\n",
      "H_0 отвергнута: True\n"
     ]
    }
   ],
   "source": [
    "metric_column = \"total_dur_ln\"\n",
    "alpha = 0.05\n",
    "\n",
    "vec_a = week1_groups[(week1_groups['group'] == 'A')][metric_column]\n",
    "vec_b = week1_groups[(week1_groups['group'] == 'B')][metric_column]\n",
    "\n",
    "sample_a_mean = calc_bootstrap_mean(vec_a.to_numpy(), size=1000)\n",
    "sample_b_mean = calc_bootstrap_mean(vec_b.to_numpy(), size=1000)\n",
    "diff_mean = sample_a_mean - sample_b_mean\n",
    "\n",
    "left_side, right_side = np.percentile(diff_mean, [0, 100 * (1 - alpha)])\n",
    "print((left_side, right_side))\n",
    "print(\"H_0 отвергнута:\", not left_side < 0 < right_side)"
   ]
  },
  {
   "cell_type": "code",
   "execution_count": 363,
   "metadata": {},
   "outputs": [
    {
     "name": "stdout",
     "output_type": "stream",
     "text": [
      "pvalue =  0.0033017595566961315\n",
      "H_0 отвергнута: True\n"
     ]
    }
   ],
   "source": [
    "metric_column = \"total_dur_ln\"\n",
    "criterion = stats.ttest_ind\n",
    "\n",
    "p = criterion(week1_groups[week1_groups['group'] == 'A'][metric_column].values,\n",
    "              week1_groups[week1_groups['group'] == 'B'][metric_column].values).pvalue\n",
    "print(\"pvalue = \", p)\n",
    "print(\"H_0 отвергнута:\", p < 0.05)"
   ]
  },
  {
   "cell_type": "code",
   "execution_count": 364,
   "metadata": {},
   "outputs": [
    {
     "name": "stdout",
     "output_type": "stream",
     "text": [
      "pvalue =  0.008600358354265631\n",
      "H_0 отвергнута: True\n"
     ]
    }
   ],
   "source": [
    "metric_column = \"total_dur_ln\"\n",
    "criterion = stats.mannwhitneyu\n",
    "\n",
    "p = criterion(week1_groups[week1_groups['group'] == 'A'][metric_column].values,\n",
    "              week1_groups[week1_groups['group'] == 'B'][metric_column].values).pvalue\n",
    "print(\"pvalue = \", p)\n",
    "print(\"H_0 отвергнута:\", p < 0.05)"
   ]
  },
  {
   "attachments": {},
   "cell_type": "markdown",
   "metadata": {},
   "source": [
    "**Выводы по ```week1```**:\n",
    "\n",
    "1. Обычная метрика```total_dur``` оказалась \"сомнительной\".\n",
    "    - После проведения А/А теста на **бутстрапе** распределение ```p-values``` было **неравномерным**. Наверно, поэтому **H_0 не отвергнута** на бутстрапе\n",
    "    - После проведения A/A теста на **критерии Манна-Уитни** распределение ```p-values``` было равномерным. Наверно, поэтому на этом критерии **H_0 была отвергнута**\n",
    "  \n",
    "2. ```total_dur_ln``` стабильно отверг H_0 всеми стат. критериями"
   ]
  },
  {
   "cell_type": "markdown",
   "metadata": {},
   "source": [
    "#### 2. ```week2```"
   ]
  },
  {
   "cell_type": "markdown",
   "metadata": {},
   "source": [
    "Обычная метрика ```total_dur```"
   ]
  },
  {
   "cell_type": "code",
   "execution_count": 365,
   "metadata": {},
   "outputs": [
    {
     "name": "stdout",
     "output_type": "stream",
     "text": [
      "(-368.7138671875, 169.54951171874995)\n",
      "H_0 отвергнута: False\n"
     ]
    }
   ],
   "source": [
    "metric_column = \"total_dur\"\n",
    "alpha = 0.05\n",
    "\n",
    "vec_a = week2_groups[(week2_groups['group'] == 'A')][metric_column]\n",
    "vec_b = week2_groups[(week2_groups['group'] == 'B')][metric_column]\n",
    "\n",
    "sample_a_mean = calc_bootstrap_mean(vec_a.to_numpy(), size=1000)\n",
    "sample_b_mean = calc_bootstrap_mean(vec_b.to_numpy(), size=1000)\n",
    "diff_mean = sample_a_mean - sample_b_mean\n",
    "\n",
    "left_side, right_side = np.percentile(diff_mean, [0, 100 * (1 - alpha)])\n",
    "print((left_side, right_side))\n",
    "print(\"H_0 отвергнута:\", not left_side < 0 < right_side)"
   ]
  },
  {
   "cell_type": "code",
   "execution_count": 366,
   "metadata": {},
   "outputs": [
    {
     "name": "stdout",
     "output_type": "stream",
     "text": [
      "pvalue =  0.8856454065902274\n",
      "H_0 отвергнута: False\n"
     ]
    }
   ],
   "source": [
    "metric_column = \"total_dur\"\n",
    "criterion = stats.ttest_ind\n",
    "\n",
    "p = criterion(week2_groups[week2_groups['group'] == 'A'][metric_column].values,\n",
    "              week2_groups[week2_groups['group'] == 'B'][metric_column].values).pvalue\n",
    "print(\"pvalue = \", p)\n",
    "print(\"H_0 отвергнута:\", p < 0.05)"
   ]
  },
  {
   "cell_type": "code",
   "execution_count": 367,
   "metadata": {},
   "outputs": [
    {
     "name": "stdout",
     "output_type": "stream",
     "text": [
      "pvalue =  0.12022000803279449\n",
      "H_0 отвергнута: False\n"
     ]
    }
   ],
   "source": [
    "metric_column = \"total_dur\"\n",
    "criterion = stats.mannwhitneyu\n",
    "\n",
    "p = criterion(week2_groups[week2_groups['group'] == 'A'][metric_column].values,\n",
    "              week2_groups[week2_groups['group'] == 'B'][metric_column].values).pvalue\n",
    "print(\"pvalue = \", p)\n",
    "print(\"H_0 отвергнута:\", p < 0.05)"
   ]
  },
  {
   "cell_type": "markdown",
   "metadata": {},
   "source": [
    "Логарифмированная метрика ```total_dur_ln```"
   ]
  },
  {
   "cell_type": "code",
   "execution_count": 368,
   "metadata": {
    "scrolled": true
   },
   "outputs": [
    {
     "name": "stdout",
     "output_type": "stream",
     "text": [
      "(-0.06935548782348633, -0.0010578632354736356)\n",
      "H_0 отвергнута: True\n"
     ]
    }
   ],
   "source": [
    "metric_column = \"total_dur_ln\"\n",
    "alpha = 0.05\n",
    "\n",
    "vec_a = week2_groups[(week2_groups['group'] == 'A')][metric_column]\n",
    "vec_b = week2_groups[(week2_groups['group'] == 'B')][metric_column]\n",
    "\n",
    "sample_a_mean = calc_bootstrap_mean(vec_a.to_numpy(), size=1000)\n",
    "sample_b_mean = calc_bootstrap_mean(vec_b.to_numpy(), size=1000)\n",
    "diff_mean = sample_a_mean - sample_b_mean\n",
    "\n",
    "left_side, right_side = np.percentile(diff_mean, [0, 100 * (1 - alpha)])\n",
    "print((left_side, right_side))\n",
    "print(\"H_0 отвергнута:\", not left_side < 0 < right_side)"
   ]
  },
  {
   "cell_type": "code",
   "execution_count": 369,
   "metadata": {},
   "outputs": [
    {
     "name": "stdout",
     "output_type": "stream",
     "text": [
      "pvalue =  0.10256990189451833\n",
      "H_0 отвергнута: False\n"
     ]
    }
   ],
   "source": [
    "metric_column = \"total_dur_ln\"\n",
    "criterion = stats.ttest_ind\n",
    "\n",
    "p = criterion(week2_groups[week2_groups['group'] == 'A'][metric_column].values,\n",
    "              week2_groups[week2_groups['group'] == 'B'][metric_column].values).pvalue\n",
    "print(\"pvalue = \", p)\n",
    "print(\"H_0 отвергнута:\", p < 0.05)"
   ]
  },
  {
   "cell_type": "code",
   "execution_count": 370,
   "metadata": {},
   "outputs": [
    {
     "name": "stdout",
     "output_type": "stream",
     "text": [
      "pvalue =  0.12022000803279449\n",
      "H_0 отвергнута: False\n"
     ]
    }
   ],
   "source": [
    "metric_column = \"total_dur_ln\"\n",
    "criterion = stats.mannwhitneyu\n",
    "\n",
    "p = criterion(week2_groups[week2_groups['group'] == 'A'][metric_column].values,\n",
    "              week2_groups[week2_groups['group'] == 'B'][metric_column].values).pvalue\n",
    "print(\"pvalue = \", p)\n",
    "print(\"H_0 отвергнута:\", p < 0.05)"
   ]
  },
  {
   "attachments": {},
   "cell_type": "markdown",
   "metadata": {},
   "source": [
    "**Выводы по ```week2```**:\n",
    "\n",
    "1. ```total_dur``` H_0 не отвергнута\n",
    "  \n",
    "2. ```total_dur_ln``` принимаем H_a в случае бутстрапа"
   ]
  },
  {
   "cell_type": "markdown",
   "metadata": {},
   "source": [
    "Осталось несколько недопониманий: \n",
    "\n",
    "1. Я делал дизайн A/B теста на данных, которые отличались от данных, где я моделировал 2.5% эффект. То есть, я не отрезал всё что меньше 500 и при поиске мощности докидывал другой эффект (твиди, вместо топ-10). Думаю, что это не окей и нужно было в самом начале \"подогнать\" данные под финальный тест, что тоже сомнительно из-за заглядывания в будущее.\n",
    "\n",
    "2. Стат. критерии (t-test и Манна-Уитни) дают равномерное распределение ```p_values```, но при этом не находят эффект в финальном тесте. Возможно, это опять же из-за изменения данных, ведь я проверял корректность их применения на необрезанных данных.\n",
    "\n",
    "По итогу единственной \"правдивой\" парой оказались ```total_dur_ln``` + Бутстрап, которые нашли эффект."
   ]
  },
  {
   "cell_type": "code",
   "execution_count": null,
   "metadata": {},
   "outputs": [],
   "source": []
  },
  {
   "cell_type": "code",
   "execution_count": null,
   "metadata": {},
   "outputs": [],
   "source": []
  },
  {
   "cell_type": "markdown",
   "metadata": {
    "collapsed": false,
    "jupyter": {
     "outputs_hidden": false
    }
   },
   "source": [
    "# ДЗ 1:\n",
    "\n",
    "### Дизайн теста\n",
    "1) Из interactions взять данные за 2 последние недели (2021-08-09 по 2021-08-22)\n",
    "\n",
    "2) Посчитайте на этих данных корректность на бутстрепе и сравните ее с результатами за 1 неделю (посчитано на семинаре) (0.5 балла)\n",
    "\n",
    "3) На двух неделях посчитайте мощность. Для этого нужно в одну из групп докинуть эффект. Докиньте эффект в 1%, 3% и 5% и сравните полученную мощность (1.5 балла)\n",
    "\n",
    "4) Посчитайте MDE, который можно зафиксировать на 2х неделях. В качестве alpha и beta подставьте ваши вычисленные ошибки 1 и 2 рода. Учитывайте что у нас формула для MDE работает для t-test или z-test (1 балл)\n",
    "\n",
    "### A/B тест\n",
    "1) Представим что у нас прошел тест, используем те же самые данные за 2 недели\n",
    "\n",
    "2) Занулите для всех пользователей total_dur, у которых total_dur < 500. Их НЕ УБИРАЕМ, а просто обрабатываем эти значения, принимая за нулевые, но пользователей также учитываем в эксперименте (0.5 балла)\n",
    "\n",
    "3) Разбейте их самостоятельно на две равные группы, используйте функцию groups_splitter и соль = 'kiontestmodel20210805' (0.5 балла)\n",
    "\n",
    "4) Оказалось, что модель в группе В показала себя лучше, чем в группе А на 2.5%, причем эффект распространился неравномерно и преимущественно на 10% самых смотрящих пользователей, докиньте такой эффект самостоятельно. Нужно метрику total_dur увеличить на 2.5% для 10% пользователей с самым продолжительным смотрением. (1 балл)\n",
    "\n",
    "5) Посчитайте результат такого теста и сделайте выводы (2 балла)\n",
    "\n",
    "Еще 1 балл можно получить за хорошее и подробное объяснение каждого шага"
   ]
  },
  {
   "cell_type": "markdown",
   "metadata": {
    "collapsed": false,
    "jupyter": {
     "outputs_hidden": false
    }
   },
   "source": [
    "СОВЕТ: Т.к бутстрэп считается долго, то для дз отлаживаем код на малом количестве итераций, а результаты уже показываем на 1000+"
   ]
  }
 ],
 "metadata": {
  "kernelspec": {
   "display_name": "Python 3 (ipykernel)",
   "language": "python",
   "name": "python3"
  },
  "language_info": {
   "codemirror_mode": {
    "name": "ipython",
    "version": 3
   },
   "file_extension": ".py",
   "mimetype": "text/x-python",
   "name": "python",
   "nbconvert_exporter": "python",
   "pygments_lexer": "ipython3",
   "version": "3.11.0"
  }
 },
 "nbformat": 4,
 "nbformat_minor": 4
}
